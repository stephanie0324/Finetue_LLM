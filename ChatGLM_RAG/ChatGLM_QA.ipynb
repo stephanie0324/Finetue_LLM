{
 "cells": [
  {
   "cell_type": "markdown",
   "id": "56b3173d-e7f1-485b-abfc-b05ea9c64f43",
   "metadata": {},
   "source": [
    "# Import"
   ]
  },
  {
   "cell_type": "code",
   "execution_count": null,
   "id": "aa8bc9e1-06c5-4447-896a-b2cd9e78d4ae",
   "metadata": {},
   "outputs": [],
   "source": [
    "!pip install langchain\n",
    "!pip install faiss-cpu\n",
    "!pip install text_generation"
   ]
  },
  {
   "cell_type": "code",
   "execution_count": null,
   "id": "a3d4c479",
   "metadata": {},
   "outputs": [],
   "source": [
    "!pip install langchain openai faiss-cpu tiktoken"
   ]
  },
  {
   "cell_type": "markdown",
   "id": "15a40d4b-2049-43b2-8943-e5b70ae9b83e",
   "metadata": {},
   "source": [
    "# 設定 openai api"
   ]
  },
  {
   "cell_type": "code",
   "execution_count": 1,
   "id": "2a62691e-4b5b-4a19-b856-737b7d0acd56",
   "metadata": {},
   "outputs": [
    {
     "name": "stdout",
     "output_type": "stream",
     "text": [
      "env: OPENAI_API_KEY='YOUR_OPENAI_KEY'\n"
     ]
    }
   ],
   "source": [
    "%env OPENAI_API_KEY='YOUR_OPENAI_KEY'"
   ]
  },
  {
   "cell_type": "markdown",
   "id": "548b13eb-83fa-4e97-82b8-f7c1445e4d47",
   "metadata": {},
   "source": [
    "# 開啟 langchain DEBUG mode"
   ]
  },
  {
   "cell_type": "code",
   "execution_count": 2,
   "id": "cff178b8-c752-4f0d-bf3e-9dc06ad81498",
   "metadata": {},
   "outputs": [],
   "source": [
    "import langchain\n",
    "langchain.debug = True"
   ]
  },
  {
   "cell_type": "markdown",
   "id": "2a86b77e-59ca-4a38-bbd9-5b7c914be481",
   "metadata": {},
   "source": [
    "# ????????"
   ]
  },
  {
   "cell_type": "code",
   "execution_count": 3,
   "id": "253d40df-4731-4008-82a2-a6644691ed36",
   "metadata": {},
   "outputs": [],
   "source": [
    "import json\n",
    "\n",
    "from operator import itemgetter\n",
    "\n",
    "from langchain.chat_models import ChatOpenAI\n",
    "from langchain.embeddings import OpenAIEmbeddings\n",
    "from langchain.prompts import ChatPromptTemplate\n",
    "from langchain.schema.output_parser import StrOutputParser\n",
    "from langchain.schema.runnable import RunnableLambda, RunnablePassthrough\n",
    "from langchain.vectorstores import FAISS\n",
    "from langchain.schema.retriever import BaseRetriever, Document\n",
    "\n",
    "from langchain import HuggingFaceTextGenInference"
   ]
  },
  {
   "cell_type": "markdown",
   "id": "bb46334d-987d-4dc3-ad68-331e918462f9",
   "metadata": {},
   "source": [
    "# 建置 FAISS 索引"
   ]
  },
  {
   "cell_type": "code",
   "execution_count": 4,
   "id": "945eb2f8-82ec-4cf1-9c47-572da0b0131b",
   "metadata": {},
   "outputs": [],
   "source": [
    "# load docs\n",
    "\n",
    "faq_json_array = []\n",
    "with open('./data/全國工商行政服務網常見FAQ.jsonl', 'r', encoding='utf-8') as file:\n",
    "    for line in file:\n",
    "        data = json.loads(line)\n",
    "        faq_json_array.append(data)"
   ]
  },
  {
   "cell_type": "code",
   "execution_count": 5,
   "id": "f6d0010b-ac25-4232-bb23-cbdc1246ef41",
   "metadata": {},
   "outputs": [],
   "source": [
    "# 處理 Document\n",
    "docs = []\n",
    "for fqa in faq_json_array:\n",
    "    doc_json = {\n",
    "        \"Q\": fqa[\"問題\"],\n",
    "        \"A\": fqa[\"答案\"]\n",
    "    }\n",
    "    doc_content = json.dumps(doc_json, ensure_ascii=False)\n",
    "\n",
    "    # 索引儲存的 Document 內容\n",
    "    current_document = Document(\n",
    "        page_content=doc_content,  # 主要內文\n",
    "        metadata={\n",
    "            'source': '全國工商行政服務網常見FAQ',\n",
    "        }\n",
    "    )\n",
    "    docs.append(current_document)"
   ]
  },
  {
   "cell_type": "code",
   "execution_count": 6,
   "id": "bf9616db-4e9e-4998-9960-4ce0e180d37f",
   "metadata": {},
   "outputs": [
    {
     "data": {
      "text/plain": [
       "[Document(page_content='{\"Q\": \"可以到哪裡申請公司登記？\", \"A\": \"答：目前受理公司登記之服務機關計有經濟部商業發展署、臺北市政府、高雄市政府、新北市政府、臺中市政府、臺南市政府、桃園市政府、經濟部產業園區管理局、國家科學及技術委員會新竹科學園區管理局等3個科學園區管理局、農業部農業科技園區管理中心、交通部航港局及交通部民用航空局等15個受理機關。※請參閱：受理公司登記之服務機關\"}', metadata={'source': '全國工商行政服務網常見FAQ'}),\n",
       " Document(page_content='{\"Q\": \"申請公司登記的規費要如何繳納？\", \"A\": \"答：如為線上申請案件，可以選擇使用信用卡、金融帳戶及晶片卡（但要裝讀卡機）繳納；如為紙本申請案件， 可以臨櫃或郵寄方式繳納，若為郵寄方式，則可以郵政匯票或即期支票繳納規費。\"}', metadata={'source': '全國工商行政服務網常見FAQ'}),\n",
       " Document(page_content='{\"Q\": \"公司登記案件，「自取」方式取件者，領件人應攜帶何證件？\", \"A\": \"答：採「自取」方式取件者，領件人應攜帶身分證明文件正本及填載個人基本資料供登記機關查驗。\"}', metadata={'source': '全國工商行政服務網常見FAQ'})]"
      ]
     },
     "execution_count": 6,
     "metadata": {},
     "output_type": "execute_result"
    }
   ],
   "source": [
    "docs[:3]"
   ]
  },
  {
   "cell_type": "code",
   "execution_count": 7,
   "id": "950a7626-b7ae-4742-b228-e0d36c61f69d",
   "metadata": {},
   "outputs": [],
   "source": [
    "vectorstore = FAISS.from_documents(\n",
    "    docs, embedding=OpenAIEmbeddings()\n",
    ")\n",
    "retriever = vectorstore.as_retriever(search_kwargs={\"k\": 4})"
   ]
  },
  {
   "cell_type": "markdown",
   "id": "24148f21-2366-4e5d-87f6-deda89eef1f1",
   "metadata": {},
   "source": [
    "# Init CHatGLM3"
   ]
  },
  {
   "cell_type": "code",
   "execution_count": 8,
   "id": "9c9dd603-7841-496c-932c-9cbc33143089",
   "metadata": {},
   "outputs": [
    {
     "name": "stderr",
     "output_type": "stream",
     "text": [
      "/home/B20711/anaconda2/envs/chatglm_etuning/lib/python3.10/site-packages/tqdm/auto.py:21: TqdmWarning: IProgress not found. Please update jupyter and ipywidgets. See https://ipywidgets.readthedocs.io/en/stable/user_install.html\n",
      "  from .autonotebook import tqdm as notebook_tqdm\n"
     ]
    }
   ],
   "source": [
    "from typing import List, Optional\n",
    "\n",
    "from langchain.llms.base import LLM\n",
    "from transformers import AutoTokenizer, AutoModel, AutoConfig\n",
    "\n",
    "\n",
    "class ChatGLM3(LLM):\n",
    "    max_token: int = 8192\n",
    "    temperature: float = 0.1\n",
    "    top_p = 0.9\n",
    "    tokenizer: object = None\n",
    "    model: object = None\n",
    "    history_len: int = 0\n",
    "\n",
    "    def __init__(self):\n",
    "        super().__init__()\n",
    "        model_config = AutoConfig.from_pretrained(\"THUDM/chatglm3-6b\", trust_remote_code=True)\n",
    "        self.tokenizer = AutoTokenizer.from_pretrained(\"THUDM/chatglm3-6b\", trust_remote_code=True)\n",
    "        self.model = AutoModel.from_pretrained(\"THUDM/chatglm3-6b\", config=model_config,\n",
    "                                               trust_remote_code=True).half().cuda()\n",
    "\n",
    "    @property\n",
    "    def _llm_type(self) -> str:\n",
    "        return \"GLM\"\n",
    "\n",
    "    def _call(self, prompt: str, history: List[str] = [], stop: Optional[List[str]] = None):\n",
    "        response, _ = self.model.chat(\n",
    "            self.tokenizer, prompt,\n",
    "            history=history[-self.history_len:] if self.history_len > 0 else [],\n",
    "            max_length=self.max_token, temperature=self.temperature,\n",
    "            top_p=self.top_p)\n",
    "        return response\n"
   ]
  },
  {
   "cell_type": "code",
   "execution_count": 9,
   "id": "8ae40912-0745-40a0-ad83-d5c4820d140e",
   "metadata": {},
   "outputs": [
    {
     "name": "stderr",
     "output_type": "stream",
     "text": [
      "Loading checkpoint shards: 100%|██████████| 7/7 [00:06<00:00,  1.03it/s]\n"
     ]
    }
   ],
   "source": [
    "model = ChatGLM3()"
   ]
  },
  {
   "cell_type": "markdown",
   "id": "d81a31f4-a90f-446d-a0f8-afe560532d35",
   "metadata": {},
   "source": [
    "# Taiwan-LLaMa-13B-v2.0-Chat"
   ]
  },
  {
   "cell_type": "code",
   "execution_count": 27,
   "id": "bc8ad66e-53a5-4aa6-b4b0-77a58b345fc6",
   "metadata": {},
   "outputs": [],
   "source": [
    "model = HuggingFaceTextGenInference(\n",
    "        inference_server_url=\"http://140.96.83.108:99/\",\n",
    "        max_new_tokens=1024,\n",
    "        temperature=0.1,\n",
    "    )"
   ]
  },
  {
   "cell_type": "markdown",
   "id": "c29beb98",
   "metadata": {},
   "source": []
  },
  {
   "cell_type": "markdown",
   "id": "09c98c6d-1be7-4a18-8c10-86cb96522ef9",
   "metadata": {},
   "source": [
    "# 設定 Document Combine 的格式"
   ]
  },
  {
   "cell_type": "code",
   "execution_count": 28,
   "id": "73dbcd65-9d5c-4d8c-9b4a-3f8c4a367f8c",
   "metadata": {},
   "outputs": [],
   "source": [
    "from langchain.prompts.prompt import PromptTemplate\n",
    "from langchain.schema import format_document\n",
    "\n",
    "DEFAULT_DOCUMENT_PROMPT = PromptTemplate.from_template(template=\"{page_content}\")\n",
    "def _combine_documents(\n",
    "    docs, document_prompt=DEFAULT_DOCUMENT_PROMPT, document_separator=\"\\n\\n\"\n",
    "):\n",
    "    doc_strings = [format_document(doc, document_prompt) for doc in docs]\n",
    "    return document_separator.join(doc_strings)"
   ]
  },
  {
   "cell_type": "markdown",
   "id": "94c4eb2b-0539-4072-a5a9-2b3b63c12173",
   "metadata": {},
   "source": [
    "# 設定丟給 LLM 的 Prompt"
   ]
  },
  {
   "cell_type": "code",
   "execution_count": 29,
   "id": "9760bbea-b6a2-4f1b-9f67-30e0ecf88c8d",
   "metadata": {},
   "outputs": [],
   "source": [
    "template = \"\"\"<|system|>\n",
    "根據以下 Contex 資料回答 User Question。\n",
    "\n",
    "規則：\n",
    "1.從 Context 比對所有JSON的欄位「Q」找出與「User Question」在關鍵詞和上下文語意相似的 JSON。\n",
    "2.如果找不到任何相似的JSON，回覆「查無相關資訊」。\n",
    "3.必須直接引用相似JSON的「Q」欄位中完整所有文字作為你的答案(必須保留原文中的換行符號（\\r\\n）與任何格式)不用回傳 「A」，用繁體中文並且不做任何修改。\n",
    "\n",
    "Contex:\n",
    "{context}\n",
    "\n",
    "<|user|>\n",
    "{question} \n",
    "\"\"\"\n",
    "prompt = ChatPromptTemplate.from_template(template)"
   ]
  },
  {
   "cell_type": "markdown",
   "id": "65880ca6-06ae-41e5-b3cb-63f96173465b",
   "metadata": {},
   "source": [
    "# Langchain 的流程"
   ]
  },
  {
   "cell_type": "code",
   "execution_count": 30,
   "id": "d4553917-7148-489b-a18d-d8e446916e8c",
   "metadata": {},
   "outputs": [],
   "source": [
    "chain = (\n",
    "    {\"context\": retriever | _combine_documents, \"question\": RunnablePassthrough()}\n",
    "    | prompt\n",
    "    | model\n",
    "    | StrOutputParser()\n",
    ")"
   ]
  },
  {
   "cell_type": "markdown",
   "id": "f3d792c2-ea33-43e3-9a13-f16c7f53ff21",
   "metadata": {},
   "source": [
    "## 調用 Chain 測試"
   ]
  },
  {
   "cell_type": "code",
   "execution_count": 32,
   "id": "ef6b6703-a31b-47f9-8747-1155ff55055d",
   "metadata": {},
   "outputs": [
    {
     "name": "stdout",
     "output_type": "stream",
     "text": [
      "\u001b[32;1m\u001b[1;3m[chain/start]\u001b[0m \u001b[1m[1:chain:RunnableSequence] Entering Chain run with input:\n",
      "\u001b[0m{\n",
      "  \"input\": \"發起人或股東之股份轉讓限制為何？\"\n",
      "}\n",
      "\u001b[32;1m\u001b[1;3m[chain/start]\u001b[0m \u001b[1m[1:chain:RunnableSequence > 2:chain:RunnableParallel] Entering Chain run with input:\n",
      "\u001b[0m{\n",
      "  \"input\": \"發起人或股東之股份轉讓限制為何？\"\n",
      "}\n",
      "\u001b[32;1m\u001b[1;3m[chain/start]\u001b[0m \u001b[1m[1:chain:RunnableSequence > 2:chain:RunnableParallel > 3:chain:RunnableSequence] Entering Chain run with input:\n",
      "\u001b[0m{\n",
      "  \"input\": \"發起人或股東之股份轉讓限制為何？\"\n",
      "}\n",
      "\u001b[32;1m\u001b[1;3m[chain/start]\u001b[0m \u001b[1m[1:chain:RunnableSequence > 2:chain:RunnableParallel > 4:chain:RunnablePassthrough] Entering Chain run with input:\n",
      "\u001b[0m{\n",
      "  \"input\": \"發起人或股東之股份轉讓限制為何？\"\n",
      "}\n",
      "\u001b[36;1m\u001b[1;3m[chain/end]\u001b[0m \u001b[1m[1:chain:RunnableSequence > 2:chain:RunnableParallel > 4:chain:RunnablePassthrough] [1ms] Exiting Chain run with output:\n",
      "\u001b[0m{\n",
      "  \"output\": \"發起人或股東之股份轉讓限制為何？\"\n",
      "}\n",
      "\u001b[32;1m\u001b[1;3m[chain/start]\u001b[0m \u001b[1m[1:chain:RunnableSequence > 2:chain:RunnableParallel > 3:chain:RunnableSequence > 5:chain:_combine_documents] Entering Chain run with input:\n",
      "\u001b[0m[inputs]\n",
      "\u001b[36;1m\u001b[1;3m[chain/end]\u001b[0m \u001b[1m[1:chain:RunnableSequence > 2:chain:RunnableParallel > 3:chain:RunnableSequence > 5:chain:_combine_documents] [1ms] Exiting Chain run with output:\n",
      "\u001b[0m{\n",
      "  \"output\": \"{\\\"Q\\\": \\\"發起人或股東之股份轉讓限制為何？\\\", \\\"A\\\": \\\"答：股東之股份以自由轉讓為原則。\\\"}\\n\\n{\\\"Q\\\": \\\"新創企業中，新創團隊為新創企業核心，閉鎖性股份有限公司章程可否限制新創團隊股東股份轉讓？\\\", \\\"A\\\": \\\"答：閉鎖性股份有限公司股東股份轉讓並非絕對禁止，惟股東股份之轉讓須受到章程之限制，須在符合限制條件下，方可進行股份轉讓；主要原因在於閉鎖性股份有限公司與一般股份有限公司相較，除與一般股份有限公司相同都是資合性公司外，因股東間具有高度緊密關係，又股東人格特性及創業團隊往往是閉鎖性公司價值所在，此一特性仍與一般股份有限公司不同。基於該項特性，閉鎖性公司應於章程中限制股東轉讓股份。所稱轉讓限制，如可約定股東轉讓股份需要公司同意或其他股東全體同意等。據此，可維持新創公司創業團隊核心成員之穩定性。\\\"}\\n\\n{\\\"Q\\\": \\\"有限公司股東及董事之出資額應如何轉讓？\\\", \\\"A\\\": \\\"答：有限公司股東之出資額應經其他全體股東過半數之同意；有限公司董事應經其他股東表決權三分之二以上同意，才可將出資額一部或全部轉讓於他人（公司法第111條）。\\\"}\\n\\n{\\\"Q\\\": \\\"閉鎖性股份有限公司設立1年發起人之股份是否可以轉讓？\\\", \\\"A\\\": \\\"答：閉鎖性股份有限公司應先適用本節之規定，本節未規定者，適用本法非閉鎖性之非公開發行公司之規定。是以，閉鎖性股份有限公司發起人之股份，新法第163條已刪除發起人之股份，非於公司設立登記1年後，不得轉讓之規定。則除非閉鎖性股份有限公司於章程中限制發起人之股份轉讓，否則發起人之股份，依新法第163條，已無設立登記1年內不得轉讓之限制。\\\"}\"\n",
      "}\n",
      "\u001b[36;1m\u001b[1;3m[chain/end]\u001b[0m \u001b[1m[1:chain:RunnableSequence > 2:chain:RunnableParallel > 3:chain:RunnableSequence] [499ms] Exiting Chain run with output:\n",
      "\u001b[0m{\n",
      "  \"output\": \"{\\\"Q\\\": \\\"發起人或股東之股份轉讓限制為何？\\\", \\\"A\\\": \\\"答：股東之股份以自由轉讓為原則。\\\"}\\n\\n{\\\"Q\\\": \\\"新創企業中，新創團隊為新創企業核心，閉鎖性股份有限公司章程可否限制新創團隊股東股份轉讓？\\\", \\\"A\\\": \\\"答：閉鎖性股份有限公司股東股份轉讓並非絕對禁止，惟股東股份之轉讓須受到章程之限制，須在符合限制條件下，方可進行股份轉讓；主要原因在於閉鎖性股份有限公司與一般股份有限公司相較，除與一般股份有限公司相同都是資合性公司外，因股東間具有高度緊密關係，又股東人格特性及創業團隊往往是閉鎖性公司價值所在，此一特性仍與一般股份有限公司不同。基於該項特性，閉鎖性公司應於章程中限制股東轉讓股份。所稱轉讓限制，如可約定股東轉讓股份需要公司同意或其他股東全體同意等。據此，可維持新創公司創業團隊核心成員之穩定性。\\\"}\\n\\n{\\\"Q\\\": \\\"有限公司股東及董事之出資額應如何轉讓？\\\", \\\"A\\\": \\\"答：有限公司股東之出資額應經其他全體股東過半數之同意；有限公司董事應經其他股東表決權三分之二以上同意，才可將出資額一部或全部轉讓於他人（公司法第111條）。\\\"}\\n\\n{\\\"Q\\\": \\\"閉鎖性股份有限公司設立1年發起人之股份是否可以轉讓？\\\", \\\"A\\\": \\\"答：閉鎖性股份有限公司應先適用本節之規定，本節未規定者，適用本法非閉鎖性之非公開發行公司之規定。是以，閉鎖性股份有限公司發起人之股份，新法第163條已刪除發起人之股份，非於公司設立登記1年後，不得轉讓之規定。則除非閉鎖性股份有限公司於章程中限制發起人之股份轉讓，否則發起人之股份，依新法第163條，已無設立登記1年內不得轉讓之限制。\\\"}\"\n",
      "}\n",
      "\u001b[36;1m\u001b[1;3m[chain/end]\u001b[0m \u001b[1m[1:chain:RunnableSequence > 2:chain:RunnableParallel] [502ms] Exiting Chain run with output:\n",
      "\u001b[0m{\n",
      "  \"context\": \"{\\\"Q\\\": \\\"發起人或股東之股份轉讓限制為何？\\\", \\\"A\\\": \\\"答：股東之股份以自由轉讓為原則。\\\"}\\n\\n{\\\"Q\\\": \\\"新創企業中，新創團隊為新創企業核心，閉鎖性股份有限公司章程可否限制新創團隊股東股份轉讓？\\\", \\\"A\\\": \\\"答：閉鎖性股份有限公司股東股份轉讓並非絕對禁止，惟股東股份之轉讓須受到章程之限制，須在符合限制條件下，方可進行股份轉讓；主要原因在於閉鎖性股份有限公司與一般股份有限公司相較，除與一般股份有限公司相同都是資合性公司外，因股東間具有高度緊密關係，又股東人格特性及創業團隊往往是閉鎖性公司價值所在，此一特性仍與一般股份有限公司不同。基於該項特性，閉鎖性公司應於章程中限制股東轉讓股份。所稱轉讓限制，如可約定股東轉讓股份需要公司同意或其他股東全體同意等。據此，可維持新創公司創業團隊核心成員之穩定性。\\\"}\\n\\n{\\\"Q\\\": \\\"有限公司股東及董事之出資額應如何轉讓？\\\", \\\"A\\\": \\\"答：有限公司股東之出資額應經其他全體股東過半數之同意；有限公司董事應經其他股東表決權三分之二以上同意，才可將出資額一部或全部轉讓於他人（公司法第111條）。\\\"}\\n\\n{\\\"Q\\\": \\\"閉鎖性股份有限公司設立1年發起人之股份是否可以轉讓？\\\", \\\"A\\\": \\\"答：閉鎖性股份有限公司應先適用本節之規定，本節未規定者，適用本法非閉鎖性之非公開發行公司之規定。是以，閉鎖性股份有限公司發起人之股份，新法第163條已刪除發起人之股份，非於公司設立登記1年後，不得轉讓之規定。則除非閉鎖性股份有限公司於章程中限制發起人之股份轉讓，否則發起人之股份，依新法第163條，已無設立登記1年內不得轉讓之限制。\\\"}\",\n",
      "  \"question\": \"發起人或股東之股份轉讓限制為何？\"\n",
      "}\n",
      "\u001b[32;1m\u001b[1;3m[chain/start]\u001b[0m \u001b[1m[1:chain:RunnableSequence > 6:prompt:ChatPromptTemplate] Entering Prompt run with input:\n",
      "\u001b[0m{\n",
      "  \"context\": \"{\\\"Q\\\": \\\"發起人或股東之股份轉讓限制為何？\\\", \\\"A\\\": \\\"答：股東之股份以自由轉讓為原則。\\\"}\\n\\n{\\\"Q\\\": \\\"新創企業中，新創團隊為新創企業核心，閉鎖性股份有限公司章程可否限制新創團隊股東股份轉讓？\\\", \\\"A\\\": \\\"答：閉鎖性股份有限公司股東股份轉讓並非絕對禁止，惟股東股份之轉讓須受到章程之限制，須在符合限制條件下，方可進行股份轉讓；主要原因在於閉鎖性股份有限公司與一般股份有限公司相較，除與一般股份有限公司相同都是資合性公司外，因股東間具有高度緊密關係，又股東人格特性及創業團隊往往是閉鎖性公司價值所在，此一特性仍與一般股份有限公司不同。基於該項特性，閉鎖性公司應於章程中限制股東轉讓股份。所稱轉讓限制，如可約定股東轉讓股份需要公司同意或其他股東全體同意等。據此，可維持新創公司創業團隊核心成員之穩定性。\\\"}\\n\\n{\\\"Q\\\": \\\"有限公司股東及董事之出資額應如何轉讓？\\\", \\\"A\\\": \\\"答：有限公司股東之出資額應經其他全體股東過半數之同意；有限公司董事應經其他股東表決權三分之二以上同意，才可將出資額一部或全部轉讓於他人（公司法第111條）。\\\"}\\n\\n{\\\"Q\\\": \\\"閉鎖性股份有限公司設立1年發起人之股份是否可以轉讓？\\\", \\\"A\\\": \\\"答：閉鎖性股份有限公司應先適用本節之規定，本節未規定者，適用本法非閉鎖性之非公開發行公司之規定。是以，閉鎖性股份有限公司發起人之股份，新法第163條已刪除發起人之股份，非於公司設立登記1年後，不得轉讓之規定。則除非閉鎖性股份有限公司於章程中限制發起人之股份轉讓，否則發起人之股份，依新法第163條，已無設立登記1年內不得轉讓之限制。\\\"}\",\n",
      "  \"question\": \"發起人或股東之股份轉讓限制為何？\"\n",
      "}\n",
      "\u001b[36;1m\u001b[1;3m[chain/end]\u001b[0m \u001b[1m[1:chain:RunnableSequence > 6:prompt:ChatPromptTemplate] [1ms] Exiting Prompt run with output:\n",
      "\u001b[0m{\n",
      "  \"lc\": 1,\n",
      "  \"type\": \"constructor\",\n",
      "  \"id\": [\n",
      "    \"langchain\",\n",
      "    \"prompts\",\n",
      "    \"chat\",\n",
      "    \"ChatPromptValue\"\n",
      "  ],\n",
      "  \"kwargs\": {\n",
      "    \"messages\": [\n",
      "      {\n",
      "        \"lc\": 1,\n",
      "        \"type\": \"constructor\",\n",
      "        \"id\": [\n",
      "          \"langchain\",\n",
      "          \"schema\",\n",
      "          \"messages\",\n",
      "          \"HumanMessage\"\n",
      "        ],\n",
      "        \"kwargs\": {\n",
      "          \"content\": \"<|system|>\\n根據以下 Contex 資料回答 User Question。\\n\\n規則：\\n1.從 Context 比對所有JSON的欄位「Q」找出與「User Question」在關鍵詞和上下文語意相似的 JSON。\\n2.如果找不到任何相似的JSON，回覆「查無相關資訊」。\\n3.必須直接引用相似JSON的「Q」欄位中完整所有文字作為你的答案(必須保留原文中的換行符號（\\r\\n）與任何格式)不用回傳 「A」，用繁體中文並且不做任何修改。\\n\\nContex:\\n{\\\"Q\\\": \\\"發起人或股東之股份轉讓限制為何？\\\", \\\"A\\\": \\\"答：股東之股份以自由轉讓為原則。\\\"}\\n\\n{\\\"Q\\\": \\\"新創企業中，新創團隊為新創企業核心，閉鎖性股份有限公司章程可否限制新創團隊股東股份轉讓？\\\", \\\"A\\\": \\\"答：閉鎖性股份有限公司股東股份轉讓並非絕對禁止，惟股東股份之轉讓須受到章程之限制，須在符合限制條件下，方可進行股份轉讓；主要原因在於閉鎖性股份有限公司與一般股份有限公司相較，除與一般股份有限公司相同都是資合性公司外，因股東間具有高度緊密關係，又股東人格特性及創業團隊往往是閉鎖性公司價值所在，此一特性仍與一般股份有限公司不同。基於該項特性，閉鎖性公司應於章程中限制股東轉讓股份。所稱轉讓限制，如可約定股東轉讓股份需要公司同意或其他股東全體同意等。據此，可維持新創公司創業團隊核心成員之穩定性。\\\"}\\n\\n{\\\"Q\\\": \\\"有限公司股東及董事之出資額應如何轉讓？\\\", \\\"A\\\": \\\"答：有限公司股東之出資額應經其他全體股東過半數之同意；有限公司董事應經其他股東表決權三分之二以上同意，才可將出資額一部或全部轉讓於他人（公司法第111條）。\\\"}\\n\\n{\\\"Q\\\": \\\"閉鎖性股份有限公司設立1年發起人之股份是否可以轉讓？\\\", \\\"A\\\": \\\"答：閉鎖性股份有限公司應先適用本節之規定，本節未規定者，適用本法非閉鎖性之非公開發行公司之規定。是以，閉鎖性股份有限公司發起人之股份，新法第163條已刪除發起人之股份，非於公司設立登記1年後，不得轉讓之規定。則除非閉鎖性股份有限公司於章程中限制發起人之股份轉讓，否則發起人之股份，依新法第163條，已無設立登記1年內不得轉讓之限制。\\\"}\\n\\n<|user|>\\n發起人或股東之股份轉讓限制為何？ \\n\",\n",
      "          \"additional_kwargs\": {}\n",
      "        }\n",
      "      }\n",
      "    ]\n",
      "  }\n",
      "}\n",
      "\u001b[32;1m\u001b[1;3m[llm/start]\u001b[0m \u001b[1m[1:chain:RunnableSequence > 7:llm:HuggingFaceTextGenInference] Entering LLM run with input:\n",
      "\u001b[0m{\n",
      "  \"prompts\": [\n",
      "    \"Human: <|system|>\\n根據以下 Contex 資料回答 User Question。\\n\\n規則：\\n1.從 Context 比對所有JSON的欄位「Q」找出與「User Question」在關鍵詞和上下文語意相似的 JSON。\\n2.如果找不到任何相似的JSON，回覆「查無相關資訊」。\\n3.必須直接引用相似JSON的「Q」欄位中完整所有文字作為你的答案(必須保留原文中的換行符號（\\r\\n）與任何格式)不用回傳 「A」，用繁體中文並且不做任何修改。\\n\\nContex:\\n{\\\"Q\\\": \\\"發起人或股東之股份轉讓限制為何？\\\", \\\"A\\\": \\\"答：股東之股份以自由轉讓為原則。\\\"}\\n\\n{\\\"Q\\\": \\\"新創企業中，新創團隊為新創企業核心，閉鎖性股份有限公司章程可否限制新創團隊股東股份轉讓？\\\", \\\"A\\\": \\\"答：閉鎖性股份有限公司股東股份轉讓並非絕對禁止，惟股東股份之轉讓須受到章程之限制，須在符合限制條件下，方可進行股份轉讓；主要原因在於閉鎖性股份有限公司與一般股份有限公司相較，除與一般股份有限公司相同都是資合性公司外，因股東間具有高度緊密關係，又股東人格特性及創業團隊往往是閉鎖性公司價值所在，此一特性仍與一般股份有限公司不同。基於該項特性，閉鎖性公司應於章程中限制股東轉讓股份。所稱轉讓限制，如可約定股東轉讓股份需要公司同意或其他股東全體同意等。據此，可維持新創公司創業團隊核心成員之穩定性。\\\"}\\n\\n{\\\"Q\\\": \\\"有限公司股東及董事之出資額應如何轉讓？\\\", \\\"A\\\": \\\"答：有限公司股東之出資額應經其他全體股東過半數之同意；有限公司董事應經其他股東表決權三分之二以上同意，才可將出資額一部或全部轉讓於他人（公司法第111條）。\\\"}\\n\\n{\\\"Q\\\": \\\"閉鎖性股份有限公司設立1年發起人之股份是否可以轉讓？\\\", \\\"A\\\": \\\"答：閉鎖性股份有限公司應先適用本節之規定，本節未規定者，適用本法非閉鎖性之非公開發行公司之規定。是以，閉鎖性股份有限公司發起人之股份，新法第163條已刪除發起人之股份，非於公司設立登記1年後，不得轉讓之規定。則除非閉鎖性股份有限公司於章程中限制發起人之股份轉讓，否則發起人之股份，依新法第163條，已無設立登記1年內不得轉讓之限制。\\\"}\\n\\n<|user|>\\n發起人或股東之股份轉讓限制為何？\"\n",
      "  ]\n",
      "}\n",
      "\u001b[31;1m\u001b[1;3m[chain/error]\u001b[0m \u001b[1m[1:chain:RunnableSequence > 7:llm:HuggingFaceTextGenInference] [5ms] Llm run errored with error:\n",
      "\u001b[0m\"ConnectionError(MaxRetryError(\\\"HTTPConnectionPool(host='140.96.83.108', port=99): Max retries exceeded with url: / (Caused by NewConnectionError('<urllib3.connection.HTTPConnection object at 0x7f6a79033a30>: Failed to establish a new connection: [Errno 111] Connection refused'))\\\"))\"\n",
      "\u001b[31;1m\u001b[1;3m[chain/error]\u001b[0m \u001b[1m[1:chain:RunnableSequence] [513ms] Chain run errored with error:\n",
      "\u001b[0m\"ConnectionError(MaxRetryError(\\\"HTTPConnectionPool(host='140.96.83.108', port=99): Max retries exceeded with url: / (Caused by NewConnectionError('<urllib3.connection.HTTPConnection object at 0x7f6a79033a30>: Failed to establish a new connection: [Errno 111] Connection refused'))\\\"))\"\n"
     ]
    },
    {
     "ename": "ConnectionError",
     "evalue": "HTTPConnectionPool(host='140.96.83.108', port=99): Max retries exceeded with url: / (Caused by NewConnectionError('<urllib3.connection.HTTPConnection object at 0x7f6a79033a30>: Failed to establish a new connection: [Errno 111] Connection refused'))",
     "output_type": "error",
     "traceback": [
      "\u001b[0;31m---------------------------------------------------------------------------\u001b[0m",
      "\u001b[0;31mConnectionRefusedError\u001b[0m                    Traceback (most recent call last)",
      "File \u001b[0;32m~/anaconda2/envs/chatglm_etuning/lib/python3.10/site-packages/urllib3/connection.py:203\u001b[0m, in \u001b[0;36mHTTPConnection._new_conn\u001b[0;34m(self)\u001b[0m\n\u001b[1;32m    202\u001b[0m \u001b[38;5;28;01mtry\u001b[39;00m:\n\u001b[0;32m--> 203\u001b[0m     sock \u001b[38;5;241m=\u001b[39m \u001b[43mconnection\u001b[49m\u001b[38;5;241;43m.\u001b[39;49m\u001b[43mcreate_connection\u001b[49m\u001b[43m(\u001b[49m\n\u001b[1;32m    204\u001b[0m \u001b[43m        \u001b[49m\u001b[43m(\u001b[49m\u001b[38;5;28;43mself\u001b[39;49m\u001b[38;5;241;43m.\u001b[39;49m\u001b[43m_dns_host\u001b[49m\u001b[43m,\u001b[49m\u001b[43m \u001b[49m\u001b[38;5;28;43mself\u001b[39;49m\u001b[38;5;241;43m.\u001b[39;49m\u001b[43mport\u001b[49m\u001b[43m)\u001b[49m\u001b[43m,\u001b[49m\n\u001b[1;32m    205\u001b[0m \u001b[43m        \u001b[49m\u001b[38;5;28;43mself\u001b[39;49m\u001b[38;5;241;43m.\u001b[39;49m\u001b[43mtimeout\u001b[49m\u001b[43m,\u001b[49m\n\u001b[1;32m    206\u001b[0m \u001b[43m        \u001b[49m\u001b[43msource_address\u001b[49m\u001b[38;5;241;43m=\u001b[39;49m\u001b[38;5;28;43mself\u001b[39;49m\u001b[38;5;241;43m.\u001b[39;49m\u001b[43msource_address\u001b[49m\u001b[43m,\u001b[49m\n\u001b[1;32m    207\u001b[0m \u001b[43m        \u001b[49m\u001b[43msocket_options\u001b[49m\u001b[38;5;241;43m=\u001b[39;49m\u001b[38;5;28;43mself\u001b[39;49m\u001b[38;5;241;43m.\u001b[39;49m\u001b[43msocket_options\u001b[49m\u001b[43m,\u001b[49m\n\u001b[1;32m    208\u001b[0m \u001b[43m    \u001b[49m\u001b[43m)\u001b[49m\n\u001b[1;32m    209\u001b[0m \u001b[38;5;28;01mexcept\u001b[39;00m socket\u001b[38;5;241m.\u001b[39mgaierror \u001b[38;5;28;01mas\u001b[39;00m e:\n",
      "File \u001b[0;32m~/anaconda2/envs/chatglm_etuning/lib/python3.10/site-packages/urllib3/util/connection.py:85\u001b[0m, in \u001b[0;36mcreate_connection\u001b[0;34m(address, timeout, source_address, socket_options)\u001b[0m\n\u001b[1;32m     84\u001b[0m \u001b[38;5;28;01mtry\u001b[39;00m:\n\u001b[0;32m---> 85\u001b[0m     \u001b[38;5;28;01mraise\u001b[39;00m err\n\u001b[1;32m     86\u001b[0m \u001b[38;5;28;01mfinally\u001b[39;00m:\n\u001b[1;32m     87\u001b[0m     \u001b[38;5;66;03m# Break explicitly a reference cycle\u001b[39;00m\n",
      "File \u001b[0;32m~/anaconda2/envs/chatglm_etuning/lib/python3.10/site-packages/urllib3/util/connection.py:73\u001b[0m, in \u001b[0;36mcreate_connection\u001b[0;34m(address, timeout, source_address, socket_options)\u001b[0m\n\u001b[1;32m     72\u001b[0m     sock\u001b[38;5;241m.\u001b[39mbind(source_address)\n\u001b[0;32m---> 73\u001b[0m \u001b[43msock\u001b[49m\u001b[38;5;241;43m.\u001b[39;49m\u001b[43mconnect\u001b[49m\u001b[43m(\u001b[49m\u001b[43msa\u001b[49m\u001b[43m)\u001b[49m\n\u001b[1;32m     74\u001b[0m \u001b[38;5;66;03m# Break explicitly a reference cycle\u001b[39;00m\n",
      "\u001b[0;31mConnectionRefusedError\u001b[0m: [Errno 111] Connection refused",
      "\nThe above exception was the direct cause of the following exception:\n",
      "\u001b[0;31mNewConnectionError\u001b[0m                        Traceback (most recent call last)",
      "File \u001b[0;32m~/anaconda2/envs/chatglm_etuning/lib/python3.10/site-packages/urllib3/connectionpool.py:790\u001b[0m, in \u001b[0;36mHTTPConnectionPool.urlopen\u001b[0;34m(self, method, url, body, headers, retries, redirect, assert_same_host, timeout, pool_timeout, release_conn, chunked, body_pos, preload_content, decode_content, **response_kw)\u001b[0m\n\u001b[1;32m    789\u001b[0m \u001b[38;5;66;03m# Make the request on the HTTPConnection object\u001b[39;00m\n\u001b[0;32m--> 790\u001b[0m response \u001b[38;5;241m=\u001b[39m \u001b[38;5;28;43mself\u001b[39;49m\u001b[38;5;241;43m.\u001b[39;49m\u001b[43m_make_request\u001b[49m\u001b[43m(\u001b[49m\n\u001b[1;32m    791\u001b[0m \u001b[43m    \u001b[49m\u001b[43mconn\u001b[49m\u001b[43m,\u001b[49m\n\u001b[1;32m    792\u001b[0m \u001b[43m    \u001b[49m\u001b[43mmethod\u001b[49m\u001b[43m,\u001b[49m\n\u001b[1;32m    793\u001b[0m \u001b[43m    \u001b[49m\u001b[43murl\u001b[49m\u001b[43m,\u001b[49m\n\u001b[1;32m    794\u001b[0m \u001b[43m    \u001b[49m\u001b[43mtimeout\u001b[49m\u001b[38;5;241;43m=\u001b[39;49m\u001b[43mtimeout_obj\u001b[49m\u001b[43m,\u001b[49m\n\u001b[1;32m    795\u001b[0m \u001b[43m    \u001b[49m\u001b[43mbody\u001b[49m\u001b[38;5;241;43m=\u001b[39;49m\u001b[43mbody\u001b[49m\u001b[43m,\u001b[49m\n\u001b[1;32m    796\u001b[0m \u001b[43m    \u001b[49m\u001b[43mheaders\u001b[49m\u001b[38;5;241;43m=\u001b[39;49m\u001b[43mheaders\u001b[49m\u001b[43m,\u001b[49m\n\u001b[1;32m    797\u001b[0m \u001b[43m    \u001b[49m\u001b[43mchunked\u001b[49m\u001b[38;5;241;43m=\u001b[39;49m\u001b[43mchunked\u001b[49m\u001b[43m,\u001b[49m\n\u001b[1;32m    798\u001b[0m \u001b[43m    \u001b[49m\u001b[43mretries\u001b[49m\u001b[38;5;241;43m=\u001b[39;49m\u001b[43mretries\u001b[49m\u001b[43m,\u001b[49m\n\u001b[1;32m    799\u001b[0m \u001b[43m    \u001b[49m\u001b[43mresponse_conn\u001b[49m\u001b[38;5;241;43m=\u001b[39;49m\u001b[43mresponse_conn\u001b[49m\u001b[43m,\u001b[49m\n\u001b[1;32m    800\u001b[0m \u001b[43m    \u001b[49m\u001b[43mpreload_content\u001b[49m\u001b[38;5;241;43m=\u001b[39;49m\u001b[43mpreload_content\u001b[49m\u001b[43m,\u001b[49m\n\u001b[1;32m    801\u001b[0m \u001b[43m    \u001b[49m\u001b[43mdecode_content\u001b[49m\u001b[38;5;241;43m=\u001b[39;49m\u001b[43mdecode_content\u001b[49m\u001b[43m,\u001b[49m\n\u001b[1;32m    802\u001b[0m \u001b[43m    \u001b[49m\u001b[38;5;241;43m*\u001b[39;49m\u001b[38;5;241;43m*\u001b[39;49m\u001b[43mresponse_kw\u001b[49m\u001b[43m,\u001b[49m\n\u001b[1;32m    803\u001b[0m \u001b[43m\u001b[49m\u001b[43m)\u001b[49m\n\u001b[1;32m    805\u001b[0m \u001b[38;5;66;03m# Everything went great!\u001b[39;00m\n",
      "File \u001b[0;32m~/anaconda2/envs/chatglm_etuning/lib/python3.10/site-packages/urllib3/connectionpool.py:496\u001b[0m, in \u001b[0;36mHTTPConnectionPool._make_request\u001b[0;34m(self, conn, method, url, body, headers, retries, timeout, chunked, response_conn, preload_content, decode_content, enforce_content_length)\u001b[0m\n\u001b[1;32m    495\u001b[0m \u001b[38;5;28;01mtry\u001b[39;00m:\n\u001b[0;32m--> 496\u001b[0m     \u001b[43mconn\u001b[49m\u001b[38;5;241;43m.\u001b[39;49m\u001b[43mrequest\u001b[49m\u001b[43m(\u001b[49m\n\u001b[1;32m    497\u001b[0m \u001b[43m        \u001b[49m\u001b[43mmethod\u001b[49m\u001b[43m,\u001b[49m\n\u001b[1;32m    498\u001b[0m \u001b[43m        \u001b[49m\u001b[43murl\u001b[49m\u001b[43m,\u001b[49m\n\u001b[1;32m    499\u001b[0m \u001b[43m        \u001b[49m\u001b[43mbody\u001b[49m\u001b[38;5;241;43m=\u001b[39;49m\u001b[43mbody\u001b[49m\u001b[43m,\u001b[49m\n\u001b[1;32m    500\u001b[0m \u001b[43m        \u001b[49m\u001b[43mheaders\u001b[49m\u001b[38;5;241;43m=\u001b[39;49m\u001b[43mheaders\u001b[49m\u001b[43m,\u001b[49m\n\u001b[1;32m    501\u001b[0m \u001b[43m        \u001b[49m\u001b[43mchunked\u001b[49m\u001b[38;5;241;43m=\u001b[39;49m\u001b[43mchunked\u001b[49m\u001b[43m,\u001b[49m\n\u001b[1;32m    502\u001b[0m \u001b[43m        \u001b[49m\u001b[43mpreload_content\u001b[49m\u001b[38;5;241;43m=\u001b[39;49m\u001b[43mpreload_content\u001b[49m\u001b[43m,\u001b[49m\n\u001b[1;32m    503\u001b[0m \u001b[43m        \u001b[49m\u001b[43mdecode_content\u001b[49m\u001b[38;5;241;43m=\u001b[39;49m\u001b[43mdecode_content\u001b[49m\u001b[43m,\u001b[49m\n\u001b[1;32m    504\u001b[0m \u001b[43m        \u001b[49m\u001b[43menforce_content_length\u001b[49m\u001b[38;5;241;43m=\u001b[39;49m\u001b[43menforce_content_length\u001b[49m\u001b[43m,\u001b[49m\n\u001b[1;32m    505\u001b[0m \u001b[43m    \u001b[49m\u001b[43m)\u001b[49m\n\u001b[1;32m    507\u001b[0m \u001b[38;5;66;03m# We are swallowing BrokenPipeError (errno.EPIPE) since the server is\u001b[39;00m\n\u001b[1;32m    508\u001b[0m \u001b[38;5;66;03m# legitimately able to close the connection after sending a valid response.\u001b[39;00m\n\u001b[1;32m    509\u001b[0m \u001b[38;5;66;03m# With this behaviour, the received response is still readable.\u001b[39;00m\n",
      "File \u001b[0;32m~/anaconda2/envs/chatglm_etuning/lib/python3.10/site-packages/urllib3/connection.py:395\u001b[0m, in \u001b[0;36mHTTPConnection.request\u001b[0;34m(self, method, url, body, headers, chunked, preload_content, decode_content, enforce_content_length)\u001b[0m\n\u001b[1;32m    394\u001b[0m     \u001b[38;5;28mself\u001b[39m\u001b[38;5;241m.\u001b[39mputheader(header, value)\n\u001b[0;32m--> 395\u001b[0m \u001b[38;5;28;43mself\u001b[39;49m\u001b[38;5;241;43m.\u001b[39;49m\u001b[43mendheaders\u001b[49m\u001b[43m(\u001b[49m\u001b[43m)\u001b[49m\n\u001b[1;32m    397\u001b[0m \u001b[38;5;66;03m# If we're given a body we start sending that in chunks.\u001b[39;00m\n",
      "File \u001b[0;32m~/anaconda2/envs/chatglm_etuning/lib/python3.10/http/client.py:1277\u001b[0m, in \u001b[0;36mHTTPConnection.endheaders\u001b[0;34m(self, message_body, encode_chunked)\u001b[0m\n\u001b[1;32m   1276\u001b[0m     \u001b[38;5;28;01mraise\u001b[39;00m CannotSendHeader()\n\u001b[0;32m-> 1277\u001b[0m \u001b[38;5;28;43mself\u001b[39;49m\u001b[38;5;241;43m.\u001b[39;49m\u001b[43m_send_output\u001b[49m\u001b[43m(\u001b[49m\u001b[43mmessage_body\u001b[49m\u001b[43m,\u001b[49m\u001b[43m \u001b[49m\u001b[43mencode_chunked\u001b[49m\u001b[38;5;241;43m=\u001b[39;49m\u001b[43mencode_chunked\u001b[49m\u001b[43m)\u001b[49m\n",
      "File \u001b[0;32m~/anaconda2/envs/chatglm_etuning/lib/python3.10/http/client.py:1037\u001b[0m, in \u001b[0;36mHTTPConnection._send_output\u001b[0;34m(self, message_body, encode_chunked)\u001b[0m\n\u001b[1;32m   1036\u001b[0m \u001b[38;5;28;01mdel\u001b[39;00m \u001b[38;5;28mself\u001b[39m\u001b[38;5;241m.\u001b[39m_buffer[:]\n\u001b[0;32m-> 1037\u001b[0m \u001b[38;5;28;43mself\u001b[39;49m\u001b[38;5;241;43m.\u001b[39;49m\u001b[43msend\u001b[49m\u001b[43m(\u001b[49m\u001b[43mmsg\u001b[49m\u001b[43m)\u001b[49m\n\u001b[1;32m   1039\u001b[0m \u001b[38;5;28;01mif\u001b[39;00m message_body \u001b[38;5;129;01mis\u001b[39;00m \u001b[38;5;129;01mnot\u001b[39;00m \u001b[38;5;28;01mNone\u001b[39;00m:\n\u001b[1;32m   1040\u001b[0m \n\u001b[1;32m   1041\u001b[0m     \u001b[38;5;66;03m# create a consistent interface to message_body\u001b[39;00m\n",
      "File \u001b[0;32m~/anaconda2/envs/chatglm_etuning/lib/python3.10/http/client.py:975\u001b[0m, in \u001b[0;36mHTTPConnection.send\u001b[0;34m(self, data)\u001b[0m\n\u001b[1;32m    974\u001b[0m \u001b[38;5;28;01mif\u001b[39;00m \u001b[38;5;28mself\u001b[39m\u001b[38;5;241m.\u001b[39mauto_open:\n\u001b[0;32m--> 975\u001b[0m     \u001b[38;5;28;43mself\u001b[39;49m\u001b[38;5;241;43m.\u001b[39;49m\u001b[43mconnect\u001b[49m\u001b[43m(\u001b[49m\u001b[43m)\u001b[49m\n\u001b[1;32m    976\u001b[0m \u001b[38;5;28;01melse\u001b[39;00m:\n",
      "File \u001b[0;32m~/anaconda2/envs/chatglm_etuning/lib/python3.10/site-packages/urllib3/connection.py:243\u001b[0m, in \u001b[0;36mHTTPConnection.connect\u001b[0;34m(self)\u001b[0m\n\u001b[1;32m    242\u001b[0m \u001b[38;5;28;01mdef\u001b[39;00m \u001b[38;5;21mconnect\u001b[39m(\u001b[38;5;28mself\u001b[39m) \u001b[38;5;241m-\u001b[39m\u001b[38;5;241m>\u001b[39m \u001b[38;5;28;01mNone\u001b[39;00m:\n\u001b[0;32m--> 243\u001b[0m     \u001b[38;5;28mself\u001b[39m\u001b[38;5;241m.\u001b[39msock \u001b[38;5;241m=\u001b[39m \u001b[38;5;28;43mself\u001b[39;49m\u001b[38;5;241;43m.\u001b[39;49m\u001b[43m_new_conn\u001b[49m\u001b[43m(\u001b[49m\u001b[43m)\u001b[49m\n\u001b[1;32m    244\u001b[0m     \u001b[38;5;28;01mif\u001b[39;00m \u001b[38;5;28mself\u001b[39m\u001b[38;5;241m.\u001b[39m_tunnel_host:\n\u001b[1;32m    245\u001b[0m         \u001b[38;5;66;03m# If we're tunneling it means we're connected to our proxy.\u001b[39;00m\n",
      "File \u001b[0;32m~/anaconda2/envs/chatglm_etuning/lib/python3.10/site-packages/urllib3/connection.py:218\u001b[0m, in \u001b[0;36mHTTPConnection._new_conn\u001b[0;34m(self)\u001b[0m\n\u001b[1;32m    217\u001b[0m \u001b[38;5;28;01mexcept\u001b[39;00m \u001b[38;5;167;01mOSError\u001b[39;00m \u001b[38;5;28;01mas\u001b[39;00m e:\n\u001b[0;32m--> 218\u001b[0m     \u001b[38;5;28;01mraise\u001b[39;00m NewConnectionError(\n\u001b[1;32m    219\u001b[0m         \u001b[38;5;28mself\u001b[39m, \u001b[38;5;124mf\u001b[39m\u001b[38;5;124m\"\u001b[39m\u001b[38;5;124mFailed to establish a new connection: \u001b[39m\u001b[38;5;132;01m{\u001b[39;00me\u001b[38;5;132;01m}\u001b[39;00m\u001b[38;5;124m\"\u001b[39m\n\u001b[1;32m    220\u001b[0m     ) \u001b[38;5;28;01mfrom\u001b[39;00m \u001b[38;5;21;01me\u001b[39;00m\n\u001b[1;32m    222\u001b[0m \u001b[38;5;66;03m# Audit hooks are only available in Python 3.8+\u001b[39;00m\n",
      "\u001b[0;31mNewConnectionError\u001b[0m: <urllib3.connection.HTTPConnection object at 0x7f6a79033a30>: Failed to establish a new connection: [Errno 111] Connection refused",
      "\nThe above exception was the direct cause of the following exception:\n",
      "\u001b[0;31mMaxRetryError\u001b[0m                             Traceback (most recent call last)",
      "File \u001b[0;32m~/anaconda2/envs/chatglm_etuning/lib/python3.10/site-packages/requests/adapters.py:486\u001b[0m, in \u001b[0;36mHTTPAdapter.send\u001b[0;34m(self, request, stream, timeout, verify, cert, proxies)\u001b[0m\n\u001b[1;32m    485\u001b[0m \u001b[38;5;28;01mtry\u001b[39;00m:\n\u001b[0;32m--> 486\u001b[0m     resp \u001b[38;5;241m=\u001b[39m \u001b[43mconn\u001b[49m\u001b[38;5;241;43m.\u001b[39;49m\u001b[43murlopen\u001b[49m\u001b[43m(\u001b[49m\n\u001b[1;32m    487\u001b[0m \u001b[43m        \u001b[49m\u001b[43mmethod\u001b[49m\u001b[38;5;241;43m=\u001b[39;49m\u001b[43mrequest\u001b[49m\u001b[38;5;241;43m.\u001b[39;49m\u001b[43mmethod\u001b[49m\u001b[43m,\u001b[49m\n\u001b[1;32m    488\u001b[0m \u001b[43m        \u001b[49m\u001b[43murl\u001b[49m\u001b[38;5;241;43m=\u001b[39;49m\u001b[43murl\u001b[49m\u001b[43m,\u001b[49m\n\u001b[1;32m    489\u001b[0m \u001b[43m        \u001b[49m\u001b[43mbody\u001b[49m\u001b[38;5;241;43m=\u001b[39;49m\u001b[43mrequest\u001b[49m\u001b[38;5;241;43m.\u001b[39;49m\u001b[43mbody\u001b[49m\u001b[43m,\u001b[49m\n\u001b[1;32m    490\u001b[0m \u001b[43m        \u001b[49m\u001b[43mheaders\u001b[49m\u001b[38;5;241;43m=\u001b[39;49m\u001b[43mrequest\u001b[49m\u001b[38;5;241;43m.\u001b[39;49m\u001b[43mheaders\u001b[49m\u001b[43m,\u001b[49m\n\u001b[1;32m    491\u001b[0m \u001b[43m        \u001b[49m\u001b[43mredirect\u001b[49m\u001b[38;5;241;43m=\u001b[39;49m\u001b[38;5;28;43;01mFalse\u001b[39;49;00m\u001b[43m,\u001b[49m\n\u001b[1;32m    492\u001b[0m \u001b[43m        \u001b[49m\u001b[43massert_same_host\u001b[49m\u001b[38;5;241;43m=\u001b[39;49m\u001b[38;5;28;43;01mFalse\u001b[39;49;00m\u001b[43m,\u001b[49m\n\u001b[1;32m    493\u001b[0m \u001b[43m        \u001b[49m\u001b[43mpreload_content\u001b[49m\u001b[38;5;241;43m=\u001b[39;49m\u001b[38;5;28;43;01mFalse\u001b[39;49;00m\u001b[43m,\u001b[49m\n\u001b[1;32m    494\u001b[0m \u001b[43m        \u001b[49m\u001b[43mdecode_content\u001b[49m\u001b[38;5;241;43m=\u001b[39;49m\u001b[38;5;28;43;01mFalse\u001b[39;49;00m\u001b[43m,\u001b[49m\n\u001b[1;32m    495\u001b[0m \u001b[43m        \u001b[49m\u001b[43mretries\u001b[49m\u001b[38;5;241;43m=\u001b[39;49m\u001b[38;5;28;43mself\u001b[39;49m\u001b[38;5;241;43m.\u001b[39;49m\u001b[43mmax_retries\u001b[49m\u001b[43m,\u001b[49m\n\u001b[1;32m    496\u001b[0m \u001b[43m        \u001b[49m\u001b[43mtimeout\u001b[49m\u001b[38;5;241;43m=\u001b[39;49m\u001b[43mtimeout\u001b[49m\u001b[43m,\u001b[49m\n\u001b[1;32m    497\u001b[0m \u001b[43m        \u001b[49m\u001b[43mchunked\u001b[49m\u001b[38;5;241;43m=\u001b[39;49m\u001b[43mchunked\u001b[49m\u001b[43m,\u001b[49m\n\u001b[1;32m    498\u001b[0m \u001b[43m    \u001b[49m\u001b[43m)\u001b[49m\n\u001b[1;32m    500\u001b[0m \u001b[38;5;28;01mexcept\u001b[39;00m (ProtocolError, \u001b[38;5;167;01mOSError\u001b[39;00m) \u001b[38;5;28;01mas\u001b[39;00m err:\n",
      "File \u001b[0;32m~/anaconda2/envs/chatglm_etuning/lib/python3.10/site-packages/urllib3/connectionpool.py:844\u001b[0m, in \u001b[0;36mHTTPConnectionPool.urlopen\u001b[0;34m(self, method, url, body, headers, retries, redirect, assert_same_host, timeout, pool_timeout, release_conn, chunked, body_pos, preload_content, decode_content, **response_kw)\u001b[0m\n\u001b[1;32m    842\u001b[0m     new_e \u001b[38;5;241m=\u001b[39m ProtocolError(\u001b[38;5;124m\"\u001b[39m\u001b[38;5;124mConnection aborted.\u001b[39m\u001b[38;5;124m\"\u001b[39m, new_e)\n\u001b[0;32m--> 844\u001b[0m retries \u001b[38;5;241m=\u001b[39m \u001b[43mretries\u001b[49m\u001b[38;5;241;43m.\u001b[39;49m\u001b[43mincrement\u001b[49m\u001b[43m(\u001b[49m\n\u001b[1;32m    845\u001b[0m \u001b[43m    \u001b[49m\u001b[43mmethod\u001b[49m\u001b[43m,\u001b[49m\u001b[43m \u001b[49m\u001b[43murl\u001b[49m\u001b[43m,\u001b[49m\u001b[43m \u001b[49m\u001b[43merror\u001b[49m\u001b[38;5;241;43m=\u001b[39;49m\u001b[43mnew_e\u001b[49m\u001b[43m,\u001b[49m\u001b[43m \u001b[49m\u001b[43m_pool\u001b[49m\u001b[38;5;241;43m=\u001b[39;49m\u001b[38;5;28;43mself\u001b[39;49m\u001b[43m,\u001b[49m\u001b[43m \u001b[49m\u001b[43m_stacktrace\u001b[49m\u001b[38;5;241;43m=\u001b[39;49m\u001b[43msys\u001b[49m\u001b[38;5;241;43m.\u001b[39;49m\u001b[43mexc_info\u001b[49m\u001b[43m(\u001b[49m\u001b[43m)\u001b[49m\u001b[43m[\u001b[49m\u001b[38;5;241;43m2\u001b[39;49m\u001b[43m]\u001b[49m\n\u001b[1;32m    846\u001b[0m \u001b[43m\u001b[49m\u001b[43m)\u001b[49m\n\u001b[1;32m    847\u001b[0m retries\u001b[38;5;241m.\u001b[39msleep()\n",
      "File \u001b[0;32m~/anaconda2/envs/chatglm_etuning/lib/python3.10/site-packages/urllib3/util/retry.py:515\u001b[0m, in \u001b[0;36mRetry.increment\u001b[0;34m(self, method, url, response, error, _pool, _stacktrace)\u001b[0m\n\u001b[1;32m    514\u001b[0m     reason \u001b[38;5;241m=\u001b[39m error \u001b[38;5;129;01mor\u001b[39;00m ResponseError(cause)\n\u001b[0;32m--> 515\u001b[0m     \u001b[38;5;28;01mraise\u001b[39;00m MaxRetryError(_pool, url, reason) \u001b[38;5;28;01mfrom\u001b[39;00m \u001b[38;5;21;01mreason\u001b[39;00m  \u001b[38;5;66;03m# type: ignore[arg-type]\u001b[39;00m\n\u001b[1;32m    517\u001b[0m log\u001b[38;5;241m.\u001b[39mdebug(\u001b[38;5;124m\"\u001b[39m\u001b[38;5;124mIncremented Retry for (url=\u001b[39m\u001b[38;5;124m'\u001b[39m\u001b[38;5;132;01m%s\u001b[39;00m\u001b[38;5;124m'\u001b[39m\u001b[38;5;124m): \u001b[39m\u001b[38;5;132;01m%r\u001b[39;00m\u001b[38;5;124m\"\u001b[39m, url, new_retry)\n",
      "\u001b[0;31mMaxRetryError\u001b[0m: HTTPConnectionPool(host='140.96.83.108', port=99): Max retries exceeded with url: / (Caused by NewConnectionError('<urllib3.connection.HTTPConnection object at 0x7f6a79033a30>: Failed to establish a new connection: [Errno 111] Connection refused'))",
      "\nDuring handling of the above exception, another exception occurred:\n",
      "\u001b[0;31mConnectionError\u001b[0m                           Traceback (most recent call last)",
      "Cell \u001b[0;32mIn[32], line 1\u001b[0m\n\u001b[0;32m----> 1\u001b[0m \u001b[43mchain\u001b[49m\u001b[38;5;241;43m.\u001b[39;49m\u001b[43minvoke\u001b[49m\u001b[43m(\u001b[49m\u001b[38;5;124;43m\"\u001b[39;49m\u001b[38;5;124;43m發起人或股東之股份轉讓限制為何？\u001b[39;49m\u001b[38;5;124;43m\"\u001b[39;49m\u001b[43m)\u001b[49m\n",
      "File \u001b[0;32m~/anaconda2/envs/chatglm_etuning/lib/python3.10/site-packages/langchain/schema/runnable/base.py:1213\u001b[0m, in \u001b[0;36mRunnableSequence.invoke\u001b[0;34m(self, input, config)\u001b[0m\n\u001b[1;32m   1211\u001b[0m \u001b[38;5;28;01mtry\u001b[39;00m:\n\u001b[1;32m   1212\u001b[0m     \u001b[38;5;28;01mfor\u001b[39;00m i, step \u001b[38;5;129;01min\u001b[39;00m \u001b[38;5;28menumerate\u001b[39m(\u001b[38;5;28mself\u001b[39m\u001b[38;5;241m.\u001b[39msteps):\n\u001b[0;32m-> 1213\u001b[0m         \u001b[38;5;28minput\u001b[39m \u001b[38;5;241m=\u001b[39m \u001b[43mstep\u001b[49m\u001b[38;5;241;43m.\u001b[39;49m\u001b[43minvoke\u001b[49m\u001b[43m(\u001b[49m\n\u001b[1;32m   1214\u001b[0m \u001b[43m            \u001b[49m\u001b[38;5;28;43minput\u001b[39;49m\u001b[43m,\u001b[49m\n\u001b[1;32m   1215\u001b[0m \u001b[43m            \u001b[49m\u001b[38;5;66;43;03m# mark each step as a child run\u001b[39;49;00m\n\u001b[1;32m   1216\u001b[0m \u001b[43m            \u001b[49m\u001b[43mpatch_config\u001b[49m\u001b[43m(\u001b[49m\n\u001b[1;32m   1217\u001b[0m \u001b[43m                \u001b[49m\u001b[43mconfig\u001b[49m\u001b[43m,\u001b[49m\u001b[43m \u001b[49m\u001b[43mcallbacks\u001b[49m\u001b[38;5;241;43m=\u001b[39;49m\u001b[43mrun_manager\u001b[49m\u001b[38;5;241;43m.\u001b[39;49m\u001b[43mget_child\u001b[49m\u001b[43m(\u001b[49m\u001b[38;5;124;43mf\u001b[39;49m\u001b[38;5;124;43m\"\u001b[39;49m\u001b[38;5;124;43mseq:step:\u001b[39;49m\u001b[38;5;132;43;01m{\u001b[39;49;00m\u001b[43mi\u001b[49m\u001b[38;5;241;43m+\u001b[39;49m\u001b[38;5;241;43m1\u001b[39;49m\u001b[38;5;132;43;01m}\u001b[39;49;00m\u001b[38;5;124;43m\"\u001b[39;49m\u001b[43m)\u001b[49m\n\u001b[1;32m   1218\u001b[0m \u001b[43m            \u001b[49m\u001b[43m)\u001b[49m\u001b[43m,\u001b[49m\n\u001b[1;32m   1219\u001b[0m \u001b[43m        \u001b[49m\u001b[43m)\u001b[49m\n\u001b[1;32m   1220\u001b[0m \u001b[38;5;66;03m# finish the root run\u001b[39;00m\n\u001b[1;32m   1221\u001b[0m \u001b[38;5;28;01mexcept\u001b[39;00m \u001b[38;5;167;01mBaseException\u001b[39;00m \u001b[38;5;28;01mas\u001b[39;00m e:\n",
      "File \u001b[0;32m~/anaconda2/envs/chatglm_etuning/lib/python3.10/site-packages/langchain/llms/base.py:229\u001b[0m, in \u001b[0;36mBaseLLM.invoke\u001b[0;34m(self, input, config, stop, **kwargs)\u001b[0m\n\u001b[1;32m    219\u001b[0m \u001b[38;5;28;01mdef\u001b[39;00m \u001b[38;5;21minvoke\u001b[39m(\n\u001b[1;32m    220\u001b[0m     \u001b[38;5;28mself\u001b[39m,\n\u001b[1;32m    221\u001b[0m     \u001b[38;5;28minput\u001b[39m: LanguageModelInput,\n\u001b[0;32m   (...)\u001b[0m\n\u001b[1;32m    225\u001b[0m     \u001b[38;5;241m*\u001b[39m\u001b[38;5;241m*\u001b[39mkwargs: Any,\n\u001b[1;32m    226\u001b[0m ) \u001b[38;5;241m-\u001b[39m\u001b[38;5;241m>\u001b[39m \u001b[38;5;28mstr\u001b[39m:\n\u001b[1;32m    227\u001b[0m     config \u001b[38;5;241m=\u001b[39m config \u001b[38;5;129;01mor\u001b[39;00m {}\n\u001b[1;32m    228\u001b[0m     \u001b[38;5;28;01mreturn\u001b[39;00m (\n\u001b[0;32m--> 229\u001b[0m         \u001b[38;5;28;43mself\u001b[39;49m\u001b[38;5;241;43m.\u001b[39;49m\u001b[43mgenerate_prompt\u001b[49m\u001b[43m(\u001b[49m\n\u001b[1;32m    230\u001b[0m \u001b[43m            \u001b[49m\u001b[43m[\u001b[49m\u001b[38;5;28;43mself\u001b[39;49m\u001b[38;5;241;43m.\u001b[39;49m\u001b[43m_convert_input\u001b[49m\u001b[43m(\u001b[49m\u001b[38;5;28;43minput\u001b[39;49m\u001b[43m)\u001b[49m\u001b[43m]\u001b[49m\u001b[43m,\u001b[49m\n\u001b[1;32m    231\u001b[0m \u001b[43m            \u001b[49m\u001b[43mstop\u001b[49m\u001b[38;5;241;43m=\u001b[39;49m\u001b[43mstop\u001b[49m\u001b[43m,\u001b[49m\n\u001b[1;32m    232\u001b[0m \u001b[43m            \u001b[49m\u001b[43mcallbacks\u001b[49m\u001b[38;5;241;43m=\u001b[39;49m\u001b[43mconfig\u001b[49m\u001b[38;5;241;43m.\u001b[39;49m\u001b[43mget\u001b[49m\u001b[43m(\u001b[49m\u001b[38;5;124;43m\"\u001b[39;49m\u001b[38;5;124;43mcallbacks\u001b[39;49m\u001b[38;5;124;43m\"\u001b[39;49m\u001b[43m)\u001b[49m\u001b[43m,\u001b[49m\n\u001b[1;32m    233\u001b[0m \u001b[43m            \u001b[49m\u001b[43mtags\u001b[49m\u001b[38;5;241;43m=\u001b[39;49m\u001b[43mconfig\u001b[49m\u001b[38;5;241;43m.\u001b[39;49m\u001b[43mget\u001b[49m\u001b[43m(\u001b[49m\u001b[38;5;124;43m\"\u001b[39;49m\u001b[38;5;124;43mtags\u001b[39;49m\u001b[38;5;124;43m\"\u001b[39;49m\u001b[43m)\u001b[49m\u001b[43m,\u001b[49m\n\u001b[1;32m    234\u001b[0m \u001b[43m            \u001b[49m\u001b[43mmetadata\u001b[49m\u001b[38;5;241;43m=\u001b[39;49m\u001b[43mconfig\u001b[49m\u001b[38;5;241;43m.\u001b[39;49m\u001b[43mget\u001b[49m\u001b[43m(\u001b[49m\u001b[38;5;124;43m\"\u001b[39;49m\u001b[38;5;124;43mmetadata\u001b[39;49m\u001b[38;5;124;43m\"\u001b[39;49m\u001b[43m)\u001b[49m\u001b[43m,\u001b[49m\n\u001b[1;32m    235\u001b[0m \u001b[43m            \u001b[49m\u001b[43mrun_name\u001b[49m\u001b[38;5;241;43m=\u001b[39;49m\u001b[43mconfig\u001b[49m\u001b[38;5;241;43m.\u001b[39;49m\u001b[43mget\u001b[49m\u001b[43m(\u001b[49m\u001b[38;5;124;43m\"\u001b[39;49m\u001b[38;5;124;43mrun_name\u001b[39;49m\u001b[38;5;124;43m\"\u001b[39;49m\u001b[43m)\u001b[49m\u001b[43m,\u001b[49m\n\u001b[1;32m    236\u001b[0m \u001b[43m            \u001b[49m\u001b[38;5;241;43m*\u001b[39;49m\u001b[38;5;241;43m*\u001b[39;49m\u001b[43mkwargs\u001b[49m\u001b[43m,\u001b[49m\n\u001b[1;32m    237\u001b[0m \u001b[43m        \u001b[49m\u001b[43m)\u001b[49m\n\u001b[1;32m    238\u001b[0m         \u001b[38;5;241m.\u001b[39mgenerations[\u001b[38;5;241m0\u001b[39m][\u001b[38;5;241m0\u001b[39m]\n\u001b[1;32m    239\u001b[0m         \u001b[38;5;241m.\u001b[39mtext\n\u001b[1;32m    240\u001b[0m     )\n",
      "File \u001b[0;32m~/anaconda2/envs/chatglm_etuning/lib/python3.10/site-packages/langchain/llms/base.py:507\u001b[0m, in \u001b[0;36mBaseLLM.generate_prompt\u001b[0;34m(self, prompts, stop, callbacks, **kwargs)\u001b[0m\n\u001b[1;32m    499\u001b[0m \u001b[38;5;28;01mdef\u001b[39;00m \u001b[38;5;21mgenerate_prompt\u001b[39m(\n\u001b[1;32m    500\u001b[0m     \u001b[38;5;28mself\u001b[39m,\n\u001b[1;32m    501\u001b[0m     prompts: List[PromptValue],\n\u001b[0;32m   (...)\u001b[0m\n\u001b[1;32m    504\u001b[0m     \u001b[38;5;241m*\u001b[39m\u001b[38;5;241m*\u001b[39mkwargs: Any,\n\u001b[1;32m    505\u001b[0m ) \u001b[38;5;241m-\u001b[39m\u001b[38;5;241m>\u001b[39m LLMResult:\n\u001b[1;32m    506\u001b[0m     prompt_strings \u001b[38;5;241m=\u001b[39m [p\u001b[38;5;241m.\u001b[39mto_string() \u001b[38;5;28;01mfor\u001b[39;00m p \u001b[38;5;129;01min\u001b[39;00m prompts]\n\u001b[0;32m--> 507\u001b[0m     \u001b[38;5;28;01mreturn\u001b[39;00m \u001b[38;5;28;43mself\u001b[39;49m\u001b[38;5;241;43m.\u001b[39;49m\u001b[43mgenerate\u001b[49m\u001b[43m(\u001b[49m\u001b[43mprompt_strings\u001b[49m\u001b[43m,\u001b[49m\u001b[43m \u001b[49m\u001b[43mstop\u001b[49m\u001b[38;5;241;43m=\u001b[39;49m\u001b[43mstop\u001b[49m\u001b[43m,\u001b[49m\u001b[43m \u001b[49m\u001b[43mcallbacks\u001b[49m\u001b[38;5;241;43m=\u001b[39;49m\u001b[43mcallbacks\u001b[49m\u001b[43m,\u001b[49m\u001b[43m \u001b[49m\u001b[38;5;241;43m*\u001b[39;49m\u001b[38;5;241;43m*\u001b[39;49m\u001b[43mkwargs\u001b[49m\u001b[43m)\u001b[49m\n",
      "File \u001b[0;32m~/anaconda2/envs/chatglm_etuning/lib/python3.10/site-packages/langchain/llms/base.py:656\u001b[0m, in \u001b[0;36mBaseLLM.generate\u001b[0;34m(self, prompts, stop, callbacks, tags, metadata, run_name, **kwargs)\u001b[0m\n\u001b[1;32m    641\u001b[0m         \u001b[38;5;28;01mraise\u001b[39;00m \u001b[38;5;167;01mValueError\u001b[39;00m(\n\u001b[1;32m    642\u001b[0m             \u001b[38;5;124m\"\u001b[39m\u001b[38;5;124mAsked to cache, but no cache found at `langchain.cache`.\u001b[39m\u001b[38;5;124m\"\u001b[39m\n\u001b[1;32m    643\u001b[0m         )\n\u001b[1;32m    644\u001b[0m     run_managers \u001b[38;5;241m=\u001b[39m [\n\u001b[1;32m    645\u001b[0m         callback_manager\u001b[38;5;241m.\u001b[39mon_llm_start(\n\u001b[1;32m    646\u001b[0m             dumpd(\u001b[38;5;28mself\u001b[39m),\n\u001b[0;32m   (...)\u001b[0m\n\u001b[1;32m    654\u001b[0m         )\n\u001b[1;32m    655\u001b[0m     ]\n\u001b[0;32m--> 656\u001b[0m     output \u001b[38;5;241m=\u001b[39m \u001b[38;5;28;43mself\u001b[39;49m\u001b[38;5;241;43m.\u001b[39;49m\u001b[43m_generate_helper\u001b[49m\u001b[43m(\u001b[49m\n\u001b[1;32m    657\u001b[0m \u001b[43m        \u001b[49m\u001b[43mprompts\u001b[49m\u001b[43m,\u001b[49m\u001b[43m \u001b[49m\u001b[43mstop\u001b[49m\u001b[43m,\u001b[49m\u001b[43m \u001b[49m\u001b[43mrun_managers\u001b[49m\u001b[43m,\u001b[49m\u001b[43m \u001b[49m\u001b[38;5;28;43mbool\u001b[39;49m\u001b[43m(\u001b[49m\u001b[43mnew_arg_supported\u001b[49m\u001b[43m)\u001b[49m\u001b[43m,\u001b[49m\u001b[43m \u001b[49m\u001b[38;5;241;43m*\u001b[39;49m\u001b[38;5;241;43m*\u001b[39;49m\u001b[43mkwargs\u001b[49m\n\u001b[1;32m    658\u001b[0m \u001b[43m    \u001b[49m\u001b[43m)\u001b[49m\n\u001b[1;32m    659\u001b[0m     \u001b[38;5;28;01mreturn\u001b[39;00m output\n\u001b[1;32m    660\u001b[0m \u001b[38;5;28;01mif\u001b[39;00m \u001b[38;5;28mlen\u001b[39m(missing_prompts) \u001b[38;5;241m>\u001b[39m \u001b[38;5;241m0\u001b[39m:\n",
      "File \u001b[0;32m~/anaconda2/envs/chatglm_etuning/lib/python3.10/site-packages/langchain/llms/base.py:544\u001b[0m, in \u001b[0;36mBaseLLM._generate_helper\u001b[0;34m(self, prompts, stop, run_managers, new_arg_supported, **kwargs)\u001b[0m\n\u001b[1;32m    542\u001b[0m     \u001b[38;5;28;01mfor\u001b[39;00m run_manager \u001b[38;5;129;01min\u001b[39;00m run_managers:\n\u001b[1;32m    543\u001b[0m         run_manager\u001b[38;5;241m.\u001b[39mon_llm_error(e)\n\u001b[0;32m--> 544\u001b[0m     \u001b[38;5;28;01mraise\u001b[39;00m e\n\u001b[1;32m    545\u001b[0m flattened_outputs \u001b[38;5;241m=\u001b[39m output\u001b[38;5;241m.\u001b[39mflatten()\n\u001b[1;32m    546\u001b[0m \u001b[38;5;28;01mfor\u001b[39;00m manager, flattened_output \u001b[38;5;129;01min\u001b[39;00m \u001b[38;5;28mzip\u001b[39m(run_managers, flattened_outputs):\n",
      "File \u001b[0;32m~/anaconda2/envs/chatglm_etuning/lib/python3.10/site-packages/langchain/llms/base.py:531\u001b[0m, in \u001b[0;36mBaseLLM._generate_helper\u001b[0;34m(self, prompts, stop, run_managers, new_arg_supported, **kwargs)\u001b[0m\n\u001b[1;32m    521\u001b[0m \u001b[38;5;28;01mdef\u001b[39;00m \u001b[38;5;21m_generate_helper\u001b[39m(\n\u001b[1;32m    522\u001b[0m     \u001b[38;5;28mself\u001b[39m,\n\u001b[1;32m    523\u001b[0m     prompts: List[\u001b[38;5;28mstr\u001b[39m],\n\u001b[0;32m   (...)\u001b[0m\n\u001b[1;32m    527\u001b[0m     \u001b[38;5;241m*\u001b[39m\u001b[38;5;241m*\u001b[39mkwargs: Any,\n\u001b[1;32m    528\u001b[0m ) \u001b[38;5;241m-\u001b[39m\u001b[38;5;241m>\u001b[39m LLMResult:\n\u001b[1;32m    529\u001b[0m     \u001b[38;5;28;01mtry\u001b[39;00m:\n\u001b[1;32m    530\u001b[0m         output \u001b[38;5;241m=\u001b[39m (\n\u001b[0;32m--> 531\u001b[0m             \u001b[38;5;28;43mself\u001b[39;49m\u001b[38;5;241;43m.\u001b[39;49m\u001b[43m_generate\u001b[49m\u001b[43m(\u001b[49m\n\u001b[1;32m    532\u001b[0m \u001b[43m                \u001b[49m\u001b[43mprompts\u001b[49m\u001b[43m,\u001b[49m\n\u001b[1;32m    533\u001b[0m \u001b[43m                \u001b[49m\u001b[43mstop\u001b[49m\u001b[38;5;241;43m=\u001b[39;49m\u001b[43mstop\u001b[49m\u001b[43m,\u001b[49m\n\u001b[1;32m    534\u001b[0m \u001b[43m                \u001b[49m\u001b[38;5;66;43;03m# TODO: support multiple run managers\u001b[39;49;00m\n\u001b[1;32m    535\u001b[0m \u001b[43m                \u001b[49m\u001b[43mrun_manager\u001b[49m\u001b[38;5;241;43m=\u001b[39;49m\u001b[43mrun_managers\u001b[49m\u001b[43m[\u001b[49m\u001b[38;5;241;43m0\u001b[39;49m\u001b[43m]\u001b[49m\u001b[43m \u001b[49m\u001b[38;5;28;43;01mif\u001b[39;49;00m\u001b[43m \u001b[49m\u001b[43mrun_managers\u001b[49m\u001b[43m \u001b[49m\u001b[38;5;28;43;01melse\u001b[39;49;00m\u001b[43m \u001b[49m\u001b[38;5;28;43;01mNone\u001b[39;49;00m\u001b[43m,\u001b[49m\n\u001b[1;32m    536\u001b[0m \u001b[43m                \u001b[49m\u001b[38;5;241;43m*\u001b[39;49m\u001b[38;5;241;43m*\u001b[39;49m\u001b[43mkwargs\u001b[49m\u001b[43m,\u001b[49m\n\u001b[1;32m    537\u001b[0m \u001b[43m            \u001b[49m\u001b[43m)\u001b[49m\n\u001b[1;32m    538\u001b[0m             \u001b[38;5;28;01mif\u001b[39;00m new_arg_supported\n\u001b[1;32m    539\u001b[0m             \u001b[38;5;28;01melse\u001b[39;00m \u001b[38;5;28mself\u001b[39m\u001b[38;5;241m.\u001b[39m_generate(prompts, stop\u001b[38;5;241m=\u001b[39mstop)\n\u001b[1;32m    540\u001b[0m         )\n\u001b[1;32m    541\u001b[0m     \u001b[38;5;28;01mexcept\u001b[39;00m \u001b[38;5;167;01mBaseException\u001b[39;00m \u001b[38;5;28;01mas\u001b[39;00m e:\n\u001b[1;32m    542\u001b[0m         \u001b[38;5;28;01mfor\u001b[39;00m run_manager \u001b[38;5;129;01min\u001b[39;00m run_managers:\n",
      "File \u001b[0;32m~/anaconda2/envs/chatglm_etuning/lib/python3.10/site-packages/langchain/llms/base.py:1053\u001b[0m, in \u001b[0;36mLLM._generate\u001b[0;34m(self, prompts, stop, run_manager, **kwargs)\u001b[0m\n\u001b[1;32m   1050\u001b[0m new_arg_supported \u001b[38;5;241m=\u001b[39m inspect\u001b[38;5;241m.\u001b[39msignature(\u001b[38;5;28mself\u001b[39m\u001b[38;5;241m.\u001b[39m_call)\u001b[38;5;241m.\u001b[39mparameters\u001b[38;5;241m.\u001b[39mget(\u001b[38;5;124m\"\u001b[39m\u001b[38;5;124mrun_manager\u001b[39m\u001b[38;5;124m\"\u001b[39m)\n\u001b[1;32m   1051\u001b[0m \u001b[38;5;28;01mfor\u001b[39;00m prompt \u001b[38;5;129;01min\u001b[39;00m prompts:\n\u001b[1;32m   1052\u001b[0m     text \u001b[38;5;241m=\u001b[39m (\n\u001b[0;32m-> 1053\u001b[0m         \u001b[38;5;28;43mself\u001b[39;49m\u001b[38;5;241;43m.\u001b[39;49m\u001b[43m_call\u001b[49m\u001b[43m(\u001b[49m\u001b[43mprompt\u001b[49m\u001b[43m,\u001b[49m\u001b[43m \u001b[49m\u001b[43mstop\u001b[49m\u001b[38;5;241;43m=\u001b[39;49m\u001b[43mstop\u001b[49m\u001b[43m,\u001b[49m\u001b[43m \u001b[49m\u001b[43mrun_manager\u001b[49m\u001b[38;5;241;43m=\u001b[39;49m\u001b[43mrun_manager\u001b[49m\u001b[43m,\u001b[49m\u001b[43m \u001b[49m\u001b[38;5;241;43m*\u001b[39;49m\u001b[38;5;241;43m*\u001b[39;49m\u001b[43mkwargs\u001b[49m\u001b[43m)\u001b[49m\n\u001b[1;32m   1054\u001b[0m         \u001b[38;5;28;01mif\u001b[39;00m new_arg_supported\n\u001b[1;32m   1055\u001b[0m         \u001b[38;5;28;01melse\u001b[39;00m \u001b[38;5;28mself\u001b[39m\u001b[38;5;241m.\u001b[39m_call(prompt, stop\u001b[38;5;241m=\u001b[39mstop, \u001b[38;5;241m*\u001b[39m\u001b[38;5;241m*\u001b[39mkwargs)\n\u001b[1;32m   1056\u001b[0m     )\n\u001b[1;32m   1057\u001b[0m     generations\u001b[38;5;241m.\u001b[39mappend([Generation(text\u001b[38;5;241m=\u001b[39mtext)])\n\u001b[1;32m   1058\u001b[0m \u001b[38;5;28;01mreturn\u001b[39;00m LLMResult(generations\u001b[38;5;241m=\u001b[39mgenerations)\n",
      "File \u001b[0;32m~/anaconda2/envs/chatglm_etuning/lib/python3.10/site-packages/langchain/llms/huggingface_text_gen_inference.py:199\u001b[0m, in \u001b[0;36mHuggingFaceTextGenInference._call\u001b[0;34m(self, prompt, stop, run_manager, **kwargs)\u001b[0m\n\u001b[1;32m    196\u001b[0m     \u001b[38;5;28;01mreturn\u001b[39;00m completion\n\u001b[1;32m    198\u001b[0m invocation_params \u001b[38;5;241m=\u001b[39m \u001b[38;5;28mself\u001b[39m\u001b[38;5;241m.\u001b[39m_invocation_params(stop, \u001b[38;5;241m*\u001b[39m\u001b[38;5;241m*\u001b[39mkwargs)\n\u001b[0;32m--> 199\u001b[0m res \u001b[38;5;241m=\u001b[39m \u001b[38;5;28;43mself\u001b[39;49m\u001b[38;5;241;43m.\u001b[39;49m\u001b[43mclient\u001b[49m\u001b[38;5;241;43m.\u001b[39;49m\u001b[43mgenerate\u001b[49m\u001b[43m(\u001b[49m\u001b[43mprompt\u001b[49m\u001b[43m,\u001b[49m\u001b[43m \u001b[49m\u001b[38;5;241;43m*\u001b[39;49m\u001b[38;5;241;43m*\u001b[39;49m\u001b[43minvocation_params\u001b[49m\u001b[43m)\u001b[49m\n\u001b[1;32m    200\u001b[0m \u001b[38;5;66;03m# remove stop sequences from the end of the generated text\u001b[39;00m\n\u001b[1;32m    201\u001b[0m \u001b[38;5;28;01mfor\u001b[39;00m stop_seq \u001b[38;5;129;01min\u001b[39;00m invocation_params[\u001b[38;5;124m\"\u001b[39m\u001b[38;5;124mstop_sequences\u001b[39m\u001b[38;5;124m\"\u001b[39m]:\n",
      "File \u001b[0;32m~/anaconda2/envs/chatglm_etuning/lib/python3.10/site-packages/text_generation/client.py:144\u001b[0m, in \u001b[0;36mClient.generate\u001b[0;34m(self, prompt, do_sample, max_new_tokens, best_of, repetition_penalty, return_full_text, seed, stop_sequences, temperature, top_k, top_p, truncate, typical_p, watermark, decoder_input_details, top_n_tokens)\u001b[0m\n\u001b[1;32m    124\u001b[0m parameters \u001b[38;5;241m=\u001b[39m Parameters(\n\u001b[1;32m    125\u001b[0m     best_of\u001b[38;5;241m=\u001b[39mbest_of,\n\u001b[1;32m    126\u001b[0m     details\u001b[38;5;241m=\u001b[39m\u001b[38;5;28;01mTrue\u001b[39;00m,\n\u001b[0;32m   (...)\u001b[0m\n\u001b[1;32m    140\u001b[0m     top_n_tokens\u001b[38;5;241m=\u001b[39mtop_n_tokens,\n\u001b[1;32m    141\u001b[0m )\n\u001b[1;32m    142\u001b[0m request \u001b[38;5;241m=\u001b[39m Request(inputs\u001b[38;5;241m=\u001b[39mprompt, stream\u001b[38;5;241m=\u001b[39m\u001b[38;5;28;01mFalse\u001b[39;00m, parameters\u001b[38;5;241m=\u001b[39mparameters)\n\u001b[0;32m--> 144\u001b[0m resp \u001b[38;5;241m=\u001b[39m \u001b[43mrequests\u001b[49m\u001b[38;5;241;43m.\u001b[39;49m\u001b[43mpost\u001b[49m\u001b[43m(\u001b[49m\n\u001b[1;32m    145\u001b[0m \u001b[43m    \u001b[49m\u001b[38;5;28;43mself\u001b[39;49m\u001b[38;5;241;43m.\u001b[39;49m\u001b[43mbase_url\u001b[49m\u001b[43m,\u001b[49m\n\u001b[1;32m    146\u001b[0m \u001b[43m    \u001b[49m\u001b[43mjson\u001b[49m\u001b[38;5;241;43m=\u001b[39;49m\u001b[43mrequest\u001b[49m\u001b[38;5;241;43m.\u001b[39;49m\u001b[43mdict\u001b[49m\u001b[43m(\u001b[49m\u001b[43m)\u001b[49m\u001b[43m,\u001b[49m\n\u001b[1;32m    147\u001b[0m \u001b[43m    \u001b[49m\u001b[43mheaders\u001b[49m\u001b[38;5;241;43m=\u001b[39;49m\u001b[38;5;28;43mself\u001b[39;49m\u001b[38;5;241;43m.\u001b[39;49m\u001b[43mheaders\u001b[49m\u001b[43m,\u001b[49m\n\u001b[1;32m    148\u001b[0m \u001b[43m    \u001b[49m\u001b[43mcookies\u001b[49m\u001b[38;5;241;43m=\u001b[39;49m\u001b[38;5;28;43mself\u001b[39;49m\u001b[38;5;241;43m.\u001b[39;49m\u001b[43mcookies\u001b[49m\u001b[43m,\u001b[49m\n\u001b[1;32m    149\u001b[0m \u001b[43m    \u001b[49m\u001b[43mtimeout\u001b[49m\u001b[38;5;241;43m=\u001b[39;49m\u001b[38;5;28;43mself\u001b[39;49m\u001b[38;5;241;43m.\u001b[39;49m\u001b[43mtimeout\u001b[49m\u001b[43m,\u001b[49m\n\u001b[1;32m    150\u001b[0m \u001b[43m\u001b[49m\u001b[43m)\u001b[49m\n\u001b[1;32m    151\u001b[0m payload \u001b[38;5;241m=\u001b[39m resp\u001b[38;5;241m.\u001b[39mjson()\n\u001b[1;32m    152\u001b[0m \u001b[38;5;28;01mif\u001b[39;00m resp\u001b[38;5;241m.\u001b[39mstatus_code \u001b[38;5;241m!=\u001b[39m \u001b[38;5;241m200\u001b[39m:\n",
      "File \u001b[0;32m~/anaconda2/envs/chatglm_etuning/lib/python3.10/site-packages/requests/api.py:115\u001b[0m, in \u001b[0;36mpost\u001b[0;34m(url, data, json, **kwargs)\u001b[0m\n\u001b[1;32m    103\u001b[0m \u001b[38;5;28;01mdef\u001b[39;00m \u001b[38;5;21mpost\u001b[39m(url, data\u001b[38;5;241m=\u001b[39m\u001b[38;5;28;01mNone\u001b[39;00m, json\u001b[38;5;241m=\u001b[39m\u001b[38;5;28;01mNone\u001b[39;00m, \u001b[38;5;241m*\u001b[39m\u001b[38;5;241m*\u001b[39mkwargs):\n\u001b[1;32m    104\u001b[0m \u001b[38;5;250m    \u001b[39m\u001b[38;5;124mr\u001b[39m\u001b[38;5;124;03m\"\"\"Sends a POST request.\u001b[39;00m\n\u001b[1;32m    105\u001b[0m \n\u001b[1;32m    106\u001b[0m \u001b[38;5;124;03m    :param url: URL for the new :class:`Request` object.\u001b[39;00m\n\u001b[0;32m   (...)\u001b[0m\n\u001b[1;32m    112\u001b[0m \u001b[38;5;124;03m    :rtype: requests.Response\u001b[39;00m\n\u001b[1;32m    113\u001b[0m \u001b[38;5;124;03m    \"\"\"\u001b[39;00m\n\u001b[0;32m--> 115\u001b[0m     \u001b[38;5;28;01mreturn\u001b[39;00m \u001b[43mrequest\u001b[49m\u001b[43m(\u001b[49m\u001b[38;5;124;43m\"\u001b[39;49m\u001b[38;5;124;43mpost\u001b[39;49m\u001b[38;5;124;43m\"\u001b[39;49m\u001b[43m,\u001b[49m\u001b[43m \u001b[49m\u001b[43murl\u001b[49m\u001b[43m,\u001b[49m\u001b[43m \u001b[49m\u001b[43mdata\u001b[49m\u001b[38;5;241;43m=\u001b[39;49m\u001b[43mdata\u001b[49m\u001b[43m,\u001b[49m\u001b[43m \u001b[49m\u001b[43mjson\u001b[49m\u001b[38;5;241;43m=\u001b[39;49m\u001b[43mjson\u001b[49m\u001b[43m,\u001b[49m\u001b[43m \u001b[49m\u001b[38;5;241;43m*\u001b[39;49m\u001b[38;5;241;43m*\u001b[39;49m\u001b[43mkwargs\u001b[49m\u001b[43m)\u001b[49m\n",
      "File \u001b[0;32m~/anaconda2/envs/chatglm_etuning/lib/python3.10/site-packages/requests/api.py:59\u001b[0m, in \u001b[0;36mrequest\u001b[0;34m(method, url, **kwargs)\u001b[0m\n\u001b[1;32m     55\u001b[0m \u001b[38;5;66;03m# By using the 'with' statement we are sure the session is closed, thus we\u001b[39;00m\n\u001b[1;32m     56\u001b[0m \u001b[38;5;66;03m# avoid leaving sockets open which can trigger a ResourceWarning in some\u001b[39;00m\n\u001b[1;32m     57\u001b[0m \u001b[38;5;66;03m# cases, and look like a memory leak in others.\u001b[39;00m\n\u001b[1;32m     58\u001b[0m \u001b[38;5;28;01mwith\u001b[39;00m sessions\u001b[38;5;241m.\u001b[39mSession() \u001b[38;5;28;01mas\u001b[39;00m session:\n\u001b[0;32m---> 59\u001b[0m     \u001b[38;5;28;01mreturn\u001b[39;00m \u001b[43msession\u001b[49m\u001b[38;5;241;43m.\u001b[39;49m\u001b[43mrequest\u001b[49m\u001b[43m(\u001b[49m\u001b[43mmethod\u001b[49m\u001b[38;5;241;43m=\u001b[39;49m\u001b[43mmethod\u001b[49m\u001b[43m,\u001b[49m\u001b[43m \u001b[49m\u001b[43murl\u001b[49m\u001b[38;5;241;43m=\u001b[39;49m\u001b[43murl\u001b[49m\u001b[43m,\u001b[49m\u001b[43m \u001b[49m\u001b[38;5;241;43m*\u001b[39;49m\u001b[38;5;241;43m*\u001b[39;49m\u001b[43mkwargs\u001b[49m\u001b[43m)\u001b[49m\n",
      "File \u001b[0;32m~/anaconda2/envs/chatglm_etuning/lib/python3.10/site-packages/requests/sessions.py:589\u001b[0m, in \u001b[0;36mSession.request\u001b[0;34m(self, method, url, params, data, headers, cookies, files, auth, timeout, allow_redirects, proxies, hooks, stream, verify, cert, json)\u001b[0m\n\u001b[1;32m    584\u001b[0m send_kwargs \u001b[38;5;241m=\u001b[39m {\n\u001b[1;32m    585\u001b[0m     \u001b[38;5;124m\"\u001b[39m\u001b[38;5;124mtimeout\u001b[39m\u001b[38;5;124m\"\u001b[39m: timeout,\n\u001b[1;32m    586\u001b[0m     \u001b[38;5;124m\"\u001b[39m\u001b[38;5;124mallow_redirects\u001b[39m\u001b[38;5;124m\"\u001b[39m: allow_redirects,\n\u001b[1;32m    587\u001b[0m }\n\u001b[1;32m    588\u001b[0m send_kwargs\u001b[38;5;241m.\u001b[39mupdate(settings)\n\u001b[0;32m--> 589\u001b[0m resp \u001b[38;5;241m=\u001b[39m \u001b[38;5;28;43mself\u001b[39;49m\u001b[38;5;241;43m.\u001b[39;49m\u001b[43msend\u001b[49m\u001b[43m(\u001b[49m\u001b[43mprep\u001b[49m\u001b[43m,\u001b[49m\u001b[43m \u001b[49m\u001b[38;5;241;43m*\u001b[39;49m\u001b[38;5;241;43m*\u001b[39;49m\u001b[43msend_kwargs\u001b[49m\u001b[43m)\u001b[49m\n\u001b[1;32m    591\u001b[0m \u001b[38;5;28;01mreturn\u001b[39;00m resp\n",
      "File \u001b[0;32m~/anaconda2/envs/chatglm_etuning/lib/python3.10/site-packages/requests/sessions.py:703\u001b[0m, in \u001b[0;36mSession.send\u001b[0;34m(self, request, **kwargs)\u001b[0m\n\u001b[1;32m    700\u001b[0m start \u001b[38;5;241m=\u001b[39m preferred_clock()\n\u001b[1;32m    702\u001b[0m \u001b[38;5;66;03m# Send the request\u001b[39;00m\n\u001b[0;32m--> 703\u001b[0m r \u001b[38;5;241m=\u001b[39m \u001b[43madapter\u001b[49m\u001b[38;5;241;43m.\u001b[39;49m\u001b[43msend\u001b[49m\u001b[43m(\u001b[49m\u001b[43mrequest\u001b[49m\u001b[43m,\u001b[49m\u001b[43m \u001b[49m\u001b[38;5;241;43m*\u001b[39;49m\u001b[38;5;241;43m*\u001b[39;49m\u001b[43mkwargs\u001b[49m\u001b[43m)\u001b[49m\n\u001b[1;32m    705\u001b[0m \u001b[38;5;66;03m# Total elapsed time of the request (approximately)\u001b[39;00m\n\u001b[1;32m    706\u001b[0m elapsed \u001b[38;5;241m=\u001b[39m preferred_clock() \u001b[38;5;241m-\u001b[39m start\n",
      "File \u001b[0;32m~/anaconda2/envs/chatglm_etuning/lib/python3.10/site-packages/requests/adapters.py:519\u001b[0m, in \u001b[0;36mHTTPAdapter.send\u001b[0;34m(self, request, stream, timeout, verify, cert, proxies)\u001b[0m\n\u001b[1;32m    515\u001b[0m     \u001b[38;5;28;01mif\u001b[39;00m \u001b[38;5;28misinstance\u001b[39m(e\u001b[38;5;241m.\u001b[39mreason, _SSLError):\n\u001b[1;32m    516\u001b[0m         \u001b[38;5;66;03m# This branch is for urllib3 v1.22 and later.\u001b[39;00m\n\u001b[1;32m    517\u001b[0m         \u001b[38;5;28;01mraise\u001b[39;00m SSLError(e, request\u001b[38;5;241m=\u001b[39mrequest)\n\u001b[0;32m--> 519\u001b[0m     \u001b[38;5;28;01mraise\u001b[39;00m \u001b[38;5;167;01mConnectionError\u001b[39;00m(e, request\u001b[38;5;241m=\u001b[39mrequest)\n\u001b[1;32m    521\u001b[0m \u001b[38;5;28;01mexcept\u001b[39;00m ClosedPoolError \u001b[38;5;28;01mas\u001b[39;00m e:\n\u001b[1;32m    522\u001b[0m     \u001b[38;5;28;01mraise\u001b[39;00m \u001b[38;5;167;01mConnectionError\u001b[39;00m(e, request\u001b[38;5;241m=\u001b[39mrequest)\n",
      "\u001b[0;31mConnectionError\u001b[0m: HTTPConnectionPool(host='140.96.83.108', port=99): Max retries exceeded with url: / (Caused by NewConnectionError('<urllib3.connection.HTTPConnection object at 0x7f6a79033a30>: Failed to establish a new connection: [Errno 111] Connection refused'))"
     ]
    }
   ],
   "source": [
    "chain.invoke(\"發起人或股東之股份轉讓限制為何？\")"
   ]
  },
  {
   "cell_type": "code",
   "execution_count": 15,
   "id": "52382f80-c09c-478b-aa24-a34026d1cee1",
   "metadata": {},
   "outputs": [
    {
     "name": "stdout",
     "output_type": "stream",
     "text": [
      "\u001b[32;1m\u001b[1;3m[chain/start]\u001b[0m \u001b[1m[1:chain:RunnableSequence] Entering Chain run with input:\n",
      "\u001b[0m{\n",
      "  \"input\": \"章程訂定員工酬勞方式為何？\"\n",
      "}\n",
      "\u001b[32;1m\u001b[1;3m[chain/start]\u001b[0m \u001b[1m[1:chain:RunnableSequence] Entering Chain run with input:\n",
      "\u001b[0m{\n",
      "  \"input\": \"未成年人可不可以擔任公司之股東？\"\n",
      "}\n",
      "\u001b[32;1m\u001b[1;3m[chain/start]\u001b[0m \u001b[1m[1:chain:RunnableSequence > 2:chain:RunnableParallel] Entering Chain run with input:\n",
      "\u001b[0m{\n",
      "  \"input\": \"章程訂定員工酬勞方式為何？\"\n",
      "}\n",
      "\u001b[32;1m\u001b[1;3m[chain/start]\u001b[0m \u001b[1m[1:chain:RunnableSequence > 2:chain:RunnableParallel] Entering Chain run with input:\n",
      "\u001b[0m{\n",
      "  \"input\": \"未成年人可不可以擔任公司之股東？\"\n",
      "}\n",
      "\u001b[32;1m\u001b[1;3m[chain/start]\u001b[0m \u001b[1m[1:chain:RunnableSequence > 2:chain:RunnableParallel > 3:chain:RunnableSequence] Entering Chain run with input:\n",
      "\u001b[0m{\n",
      "  \"input\": \"章程訂定員工酬勞方式為何？\"\n",
      "}\n",
      "\u001b[32;1m\u001b[1;3m[chain/start]\u001b[0m \u001b[1m[1:chain:RunnableSequence > 2:chain:RunnableParallel > 3:chain:RunnableSequence] Entering Chain run with input:\n",
      "\u001b[0m{\n",
      "  \"input\": \"未成年人可不可以擔任公司之股東？\"\n",
      "}\n",
      "\u001b[32;1m\u001b[1;3m[chain/start]\u001b[0m \u001b[1m[1:chain:RunnableSequence > 2:chain:RunnableParallel > 4:chain:RunnablePassthrough] Entering Chain run with input:\n",
      "\u001b[0m{\n",
      "  \"input\": \"未成年人可不可以擔任公司之股東？\"\n",
      "}\n",
      "\u001b[36;1m\u001b[1;3m[chain/end]\u001b[0m \u001b[1m[1:chain:RunnableSequence > 2:chain:RunnableParallel > 4:chain:RunnablePassthrough] [1ms] Exiting Chain run with output:\n",
      "\u001b[0m{\n",
      "  \"output\": \"未成年人可不可以擔任公司之股東？\"\n",
      "}\n",
      "\u001b[32;1m\u001b[1;3m[chain/start]\u001b[0m \u001b[1m[1:chain:RunnableSequence > 2:chain:RunnableParallel > 4:chain:RunnablePassthrough] Entering Chain run with input:\n",
      "\u001b[0m{\n",
      "  \"input\": \"章程訂定員工酬勞方式為何？\"\n",
      "}\n",
      "\u001b[36;1m\u001b[1;3m[chain/end]\u001b[0m \u001b[1m[1:chain:RunnableSequence > 2:chain:RunnableParallel > 4:chain:RunnablePassthrough] [0ms] Exiting Chain run with output:\n",
      "\u001b[0m{\n",
      "  \"output\": \"章程訂定員工酬勞方式為何？\"\n",
      "}\n",
      "\u001b[32;1m\u001b[1;3m[chain/start]\u001b[0m \u001b[1m[1:chain:RunnableSequence > 2:chain:RunnableParallel > 3:chain:RunnableSequence > 5:chain:_combine_documents] Entering Chain run with input:\n",
      "\u001b[0m[inputs]\n",
      "\u001b[36;1m\u001b[1;3m[chain/end]\u001b[0m \u001b[1m[1:chain:RunnableSequence > 2:chain:RunnableParallel > 3:chain:RunnableSequence > 5:chain:_combine_documents] [1ms] Exiting Chain run with output:\n",
      "\u001b[0m{\n",
      "  \"output\": \"{\\\"Q\\\": \\\"章程訂定員工酬勞方式為何？\\\", \\\"A\\\": \\\"答：公司應在章程中明定公司有獲利時應分配給員工的酬勞，分配方式可以採比率或定額。比率訂定方式，選擇以固定數（例如：百分之二）、一定區間（例如：百分之二至百分之十）或下限（例如：百分之二以上、不低於百分之二）三種方式之一，均屬可行。\\\\r\\\\n（公司法§235-1）\\\"}\\n\\n{\\\"Q\\\": \\\"無員工編制時，還要提列員工酬勞嗎？\\\", \\\"A\\\": \\\"答：如果公司無員工編制時，可不提列員工酬勞。（公司法§235-1）\\\"}\\n\\n{\\\"Q\\\": \\\"發起人選任董事及監察人之方式，除章程另有規定者外，準用第198條規定。章程如何訂定？有限制嗎？改選是否也有限制？發起人或未來改選董監事是否一定要選有股東身分，又或外聘董監事？\\\", \\\"A\\\": \\\"答：依新法第356條之3規定，發起人選任董監以及爾後股東會選任董監之方式，除章程另有規定者外，依第198條規定辦理，亦即閉鎖性股份有限公司不論是發起人或爾後股東會選任董監，皆不強制採累積投票制，得以章程另定董事、監察人之選舉方式。另董事、監察人不以具有股東身分為必要（第192條、216條參照）。\\\"}\\n\\n{\\\"Q\\\": \\\"股份有限公司設置常務董事之要件為何？公司設有常務董事者，其董事長及副董事長可否由董事會選任？\\\", \\\"A\\\": \\\"答：公司欲設置常務董事者，其董事人數至少須有9名，且章程應訂明常務董事及名額，其名額至少3名，最多不得超過董事人數三分之一。公司設有常務董事者，董事長及副董事長應由常務董事三分之二以上之出席，出席常務董事過半數之同意選任，尚不得由董事會逕為選任。（公司法§208、經濟部69年5月23日經商字第16541號函釋）\\\"}\"\n",
      "}\n",
      "\u001b[36;1m\u001b[1;3m[chain/end]\u001b[0m \u001b[1m[1:chain:RunnableSequence > 2:chain:RunnableParallel > 3:chain:RunnableSequence] [357ms] Exiting Chain run with output:\n",
      "\u001b[0m{\n",
      "  \"output\": \"{\\\"Q\\\": \\\"章程訂定員工酬勞方式為何？\\\", \\\"A\\\": \\\"答：公司應在章程中明定公司有獲利時應分配給員工的酬勞，分配方式可以採比率或定額。比率訂定方式，選擇以固定數（例如：百分之二）、一定區間（例如：百分之二至百分之十）或下限（例如：百分之二以上、不低於百分之二）三種方式之一，均屬可行。\\\\r\\\\n（公司法§235-1）\\\"}\\n\\n{\\\"Q\\\": \\\"無員工編制時，還要提列員工酬勞嗎？\\\", \\\"A\\\": \\\"答：如果公司無員工編制時，可不提列員工酬勞。（公司法§235-1）\\\"}\\n\\n{\\\"Q\\\": \\\"發起人選任董事及監察人之方式，除章程另有規定者外，準用第198條規定。章程如何訂定？有限制嗎？改選是否也有限制？發起人或未來改選董監事是否一定要選有股東身分，又或外聘董監事？\\\", \\\"A\\\": \\\"答：依新法第356條之3規定，發起人選任董監以及爾後股東會選任董監之方式，除章程另有規定者外，依第198條規定辦理，亦即閉鎖性股份有限公司不論是發起人或爾後股東會選任董監，皆不強制採累積投票制，得以章程另定董事、監察人之選舉方式。另董事、監察人不以具有股東身分為必要（第192條、216條參照）。\\\"}\\n\\n{\\\"Q\\\": \\\"股份有限公司設置常務董事之要件為何？公司設有常務董事者，其董事長及副董事長可否由董事會選任？\\\", \\\"A\\\": \\\"答：公司欲設置常務董事者，其董事人數至少須有9名，且章程應訂明常務董事及名額，其名額至少3名，最多不得超過董事人數三分之一。公司設有常務董事者，董事長及副董事長應由常務董事三分之二以上之出席，出席常務董事過半數之同意選任，尚不得由董事會逕為選任。（公司法§208、經濟部69年5月23日經商字第16541號函釋）\\\"}\"\n",
      "}\n",
      "\u001b[36;1m\u001b[1;3m[chain/end]\u001b[0m \u001b[1m[1:chain:RunnableSequence > 2:chain:RunnableParallel] [365ms] Exiting Chain run with output:\n",
      "\u001b[0m{\n",
      "  \"context\": \"{\\\"Q\\\": \\\"章程訂定員工酬勞方式為何？\\\", \\\"A\\\": \\\"答：公司應在章程中明定公司有獲利時應分配給員工的酬勞，分配方式可以採比率或定額。比率訂定方式，選擇以固定數（例如：百分之二）、一定區間（例如：百分之二至百分之十）或下限（例如：百分之二以上、不低於百分之二）三種方式之一，均屬可行。\\\\r\\\\n（公司法§235-1）\\\"}\\n\\n{\\\"Q\\\": \\\"無員工編制時，還要提列員工酬勞嗎？\\\", \\\"A\\\": \\\"答：如果公司無員工編制時，可不提列員工酬勞。（公司法§235-1）\\\"}\\n\\n{\\\"Q\\\": \\\"發起人選任董事及監察人之方式，除章程另有規定者外，準用第198條規定。章程如何訂定？有限制嗎？改選是否也有限制？發起人或未來改選董監事是否一定要選有股東身分，又或外聘董監事？\\\", \\\"A\\\": \\\"答：依新法第356條之3規定，發起人選任董監以及爾後股東會選任董監之方式，除章程另有規定者外，依第198條規定辦理，亦即閉鎖性股份有限公司不論是發起人或爾後股東會選任董監，皆不強制採累積投票制，得以章程另定董事、監察人之選舉方式。另董事、監察人不以具有股東身分為必要（第192條、216條參照）。\\\"}\\n\\n{\\\"Q\\\": \\\"股份有限公司設置常務董事之要件為何？公司設有常務董事者，其董事長及副董事長可否由董事會選任？\\\", \\\"A\\\": \\\"答：公司欲設置常務董事者，其董事人數至少須有9名，且章程應訂明常務董事及名額，其名額至少3名，最多不得超過董事人數三分之一。公司設有常務董事者，董事長及副董事長應由常務董事三分之二以上之出席，出席常務董事過半數之同意選任，尚不得由董事會逕為選任。（公司法§208、經濟部69年5月23日經商字第16541號函釋）\\\"}\",\n",
      "  \"question\": \"章程訂定員工酬勞方式為何？\"\n",
      "}\n",
      "\u001b[32;1m\u001b[1;3m[chain/start]\u001b[0m \u001b[1m[1:chain:RunnableSequence > 2:chain:RunnableParallel > 3:chain:RunnableSequence > 5:chain:_combine_documents] Entering Chain run with input:\n",
      "\u001b[0m[inputs]\n",
      "\u001b[36;1m\u001b[1;3m[chain/end]\u001b[0m \u001b[1m[1:chain:RunnableSequence > 2:chain:RunnableParallel > 3:chain:RunnableSequence > 5:chain:_combine_documents] [1ms] Exiting Chain run with output:\n",
      "\u001b[0m{\n",
      "  \"output\": \"{\\\"Q\\\": \\\"未成年人可不可以擔任公司之股東？\\\", \\\"A\\\": \\\"答：未成年人可以成為公司之股東；但是未成年人不可以成為股份有限公司的發起人。（公司法§128）\\\"}\\n\\n{\\\"Q\\\": \\\"有限公司未成年股東在股東同意書上要怎麼簽名？\\\", \\\"A\\\": \\\"答：有限公司辦理變更登記，需要由未成年的限制行為能力股東同意時，除由其簽名外，依照民法的規定，還需要檢附法定代理人的同意書；若需由未成年的無行為能力股東同意時，則應由法定代理人代為意思表示（代為簽名）。（民法§76、§77、§1086、§1089）\\\"}\\n\\n{\\\"Q\\\": \\\"母公司經理人可不可以擔任百分之百持有之子公司經理人？\\\", \\\"A\\\": \\\"答：董事兼任經營同類業務之他公司董事或經理人，而該二公司為百分之百母子關係時，並不構成公司法第32條、第209條競業行為（本部101年10月11日經商字第10102435880號函釋）。\\\"}\\n\\n{\\\"Q\\\": \\\"有限公司董事如何產生？可否選任董事長？董事人數、資格有何限制？\\\", \\\"A\\\": \\\"答：有限公司要由三分之二以上股東同意來選任董事，而且至少要設置1人最多3人，由有行為能力的股東裡面選任，如果是限制行為能力的人或無行為能力的人，就不能擔任董事。而董事有數人時，如果要推定1人為董事長，就必須在章程裡面訂清楚，並由董事過半數同意互選，公司也可以選擇不設置董事長。（公司法§108）。\\\"}\"\n",
      "}\n",
      "\u001b[36;1m\u001b[1;3m[chain/end]\u001b[0m \u001b[1m[1:chain:RunnableSequence > 2:chain:RunnableParallel > 3:chain:RunnableSequence] [398ms] Exiting Chain run with output:\n",
      "\u001b[0m{\n",
      "  \"output\": \"{\\\"Q\\\": \\\"未成年人可不可以擔任公司之股東？\\\", \\\"A\\\": \\\"答：未成年人可以成為公司之股東；但是未成年人不可以成為股份有限公司的發起人。（公司法§128）\\\"}\\n\\n{\\\"Q\\\": \\\"有限公司未成年股東在股東同意書上要怎麼簽名？\\\", \\\"A\\\": \\\"答：有限公司辦理變更登記，需要由未成年的限制行為能力股東同意時，除由其簽名外，依照民法的規定，還需要檢附法定代理人的同意書；若需由未成年的無行為能力股東同意時，則應由法定代理人代為意思表示（代為簽名）。（民法§76、§77、§1086、§1089）\\\"}\\n\\n{\\\"Q\\\": \\\"母公司經理人可不可以擔任百分之百持有之子公司經理人？\\\", \\\"A\\\": \\\"答：董事兼任經營同類業務之他公司董事或經理人，而該二公司為百分之百母子關係時，並不構成公司法第32條、第209條競業行為（本部101年10月11日經商字第10102435880號函釋）。\\\"}\\n\\n{\\\"Q\\\": \\\"有限公司董事如何產生？可否選任董事長？董事人數、資格有何限制？\\\", \\\"A\\\": \\\"答：有限公司要由三分之二以上股東同意來選任董事，而且至少要設置1人最多3人，由有行為能力的股東裡面選任，如果是限制行為能力的人或無行為能力的人，就不能擔任董事。而董事有數人時，如果要推定1人為董事長，就必須在章程裡面訂清楚，並由董事過半數同意互選，公司也可以選擇不設置董事長。（公司法§108）。\\\"}\"\n",
      "}\n",
      "\u001b[36;1m\u001b[1;3m[chain/end]\u001b[0m \u001b[1m[1:chain:RunnableSequence > 2:chain:RunnableParallel] [407ms] Exiting Chain run with output:\n",
      "\u001b[0m{\n",
      "  \"context\": \"{\\\"Q\\\": \\\"未成年人可不可以擔任公司之股東？\\\", \\\"A\\\": \\\"答：未成年人可以成為公司之股東；但是未成年人不可以成為股份有限公司的發起人。（公司法§128）\\\"}\\n\\n{\\\"Q\\\": \\\"有限公司未成年股東在股東同意書上要怎麼簽名？\\\", \\\"A\\\": \\\"答：有限公司辦理變更登記，需要由未成年的限制行為能力股東同意時，除由其簽名外，依照民法的規定，還需要檢附法定代理人的同意書；若需由未成年的無行為能力股東同意時，則應由法定代理人代為意思表示（代為簽名）。（民法§76、§77、§1086、§1089）\\\"}\\n\\n{\\\"Q\\\": \\\"母公司經理人可不可以擔任百分之百持有之子公司經理人？\\\", \\\"A\\\": \\\"答：董事兼任經營同類業務之他公司董事或經理人，而該二公司為百分之百母子關係時，並不構成公司法第32條、第209條競業行為（本部101年10月11日經商字第10102435880號函釋）。\\\"}\\n\\n{\\\"Q\\\": \\\"有限公司董事如何產生？可否選任董事長？董事人數、資格有何限制？\\\", \\\"A\\\": \\\"答：有限公司要由三分之二以上股東同意來選任董事，而且至少要設置1人最多3人，由有行為能力的股東裡面選任，如果是限制行為能力的人或無行為能力的人，就不能擔任董事。而董事有數人時，如果要推定1人為董事長，就必須在章程裡面訂清楚，並由董事過半數同意互選，公司也可以選擇不設置董事長。（公司法§108）。\\\"}\",\n",
      "  \"question\": \"未成年人可不可以擔任公司之股東？\"\n",
      "}\n",
      "\u001b[32;1m\u001b[1;3m[chain/start]\u001b[0m \u001b[1m[1:chain:RunnableSequence > 6:prompt:ChatPromptTemplate] Entering Prompt run with input:\n",
      "\u001b[0m{\n",
      "  \"context\": \"{\\\"Q\\\": \\\"章程訂定員工酬勞方式為何？\\\", \\\"A\\\": \\\"答：公司應在章程中明定公司有獲利時應分配給員工的酬勞，分配方式可以採比率或定額。比率訂定方式，選擇以固定數（例如：百分之二）、一定區間（例如：百分之二至百分之十）或下限（例如：百分之二以上、不低於百分之二）三種方式之一，均屬可行。\\\\r\\\\n（公司法§235-1）\\\"}\\n\\n{\\\"Q\\\": \\\"無員工編制時，還要提列員工酬勞嗎？\\\", \\\"A\\\": \\\"答：如果公司無員工編制時，可不提列員工酬勞。（公司法§235-1）\\\"}\\n\\n{\\\"Q\\\": \\\"發起人選任董事及監察人之方式，除章程另有規定者外，準用第198條規定。章程如何訂定？有限制嗎？改選是否也有限制？發起人或未來改選董監事是否一定要選有股東身分，又或外聘董監事？\\\", \\\"A\\\": \\\"答：依新法第356條之3規定，發起人選任董監以及爾後股東會選任董監之方式，除章程另有規定者外，依第198條規定辦理，亦即閉鎖性股份有限公司不論是發起人或爾後股東會選任董監，皆不強制採累積投票制，得以章程另定董事、監察人之選舉方式。另董事、監察人不以具有股東身分為必要（第192條、216條參照）。\\\"}\\n\\n{\\\"Q\\\": \\\"股份有限公司設置常務董事之要件為何？公司設有常務董事者，其董事長及副董事長可否由董事會選任？\\\", \\\"A\\\": \\\"答：公司欲設置常務董事者，其董事人數至少須有9名，且章程應訂明常務董事及名額，其名額至少3名，最多不得超過董事人數三分之一。公司設有常務董事者，董事長及副董事長應由常務董事三分之二以上之出席，出席常務董事過半數之同意選任，尚不得由董事會逕為選任。（公司法§208、經濟部69年5月23日經商字第16541號函釋）\\\"}\",\n",
      "  \"question\": \"章程訂定員工酬勞方式為何？\"\n",
      "}\n",
      "\u001b[36;1m\u001b[1;3m[chain/end]\u001b[0m \u001b[1m[1:chain:RunnableSequence > 6:prompt:ChatPromptTemplate] [1ms] Exiting Prompt run with output:\n",
      "\u001b[0m{\n",
      "  \"lc\": 1,\n",
      "  \"type\": \"constructor\",\n",
      "  \"id\": [\n",
      "    \"langchain\",\n",
      "    \"prompts\",\n",
      "    \"chat\",\n",
      "    \"ChatPromptValue\"\n",
      "  ],\n",
      "  \"kwargs\": {\n",
      "    \"messages\": [\n",
      "      {\n",
      "        \"lc\": 1,\n",
      "        \"type\": \"constructor\",\n",
      "        \"id\": [\n",
      "          \"langchain\",\n",
      "          \"schema\",\n",
      "          \"messages\",\n",
      "          \"HumanMessage\"\n",
      "        ],\n",
      "        \"kwargs\": {\n",
      "          \"content\": \"<|system|>\\n根據以下 Contex 資料回答 User Question。\\n\\n規則：\\n1.從 Context 比對所有JSON的欄位「Q」找出與「User Question」在關鍵詞和上下文語意相似的 JSON。\\n2.如果找不到任何相似的JSON，回覆「查無相關資訊」。\\n3.必須直接引用相似JSON的「A」欄位中完整所有文字作為你的答案(必須保留原文中的換行符號（\\r\\n）與任何格式)，並且不做任何修改。\\n\\nContex:\\n{\\\"Q\\\": \\\"章程訂定員工酬勞方式為何？\\\", \\\"A\\\": \\\"答：公司應在章程中明定公司有獲利時應分配給員工的酬勞，分配方式可以採比率或定額。比率訂定方式，選擇以固定數（例如：百分之二）、一定區間（例如：百分之二至百分之十）或下限（例如：百分之二以上、不低於百分之二）三種方式之一，均屬可行。\\\\r\\\\n（公司法§235-1）\\\"}\\n\\n{\\\"Q\\\": \\\"無員工編制時，還要提列員工酬勞嗎？\\\", \\\"A\\\": \\\"答：如果公司無員工編制時，可不提列員工酬勞。（公司法§235-1）\\\"}\\n\\n{\\\"Q\\\": \\\"發起人選任董事及監察人之方式，除章程另有規定者外，準用第198條規定。章程如何訂定？有限制嗎？改選是否也有限制？發起人或未來改選董監事是否一定要選有股東身分，又或外聘董監事？\\\", \\\"A\\\": \\\"答：依新法第356條之3規定，發起人選任董監以及爾後股東會選任董監之方式，除章程另有規定者外，依第198條規定辦理，亦即閉鎖性股份有限公司不論是發起人或爾後股東會選任董監，皆不強制採累積投票制，得以章程另定董事、監察人之選舉方式。另董事、監察人不以具有股東身分為必要（第192條、216條參照）。\\\"}\\n\\n{\\\"Q\\\": \\\"股份有限公司設置常務董事之要件為何？公司設有常務董事者，其董事長及副董事長可否由董事會選任？\\\", \\\"A\\\": \\\"答：公司欲設置常務董事者，其董事人數至少須有9名，且章程應訂明常務董事及名額，其名額至少3名，最多不得超過董事人數三分之一。公司設有常務董事者，董事長及副董事長應由常務董事三分之二以上之出席，出席常務董事過半數之同意選任，尚不得由董事會逕為選任。（公司法§208、經濟部69年5月23日經商字第16541號函釋）\\\"}\\n\\n<|user|>\\n章程訂定員工酬勞方式為何？ \\n\",\n",
      "          \"additional_kwargs\": {}\n",
      "        }\n",
      "      }\n",
      "    ]\n",
      "  }\n",
      "}\n",
      "\u001b[32;1m\u001b[1;3m[chain/start]\u001b[0m \u001b[1m[1:chain:RunnableSequence > 6:prompt:ChatPromptTemplate] Entering Prompt run with input:\n",
      "\u001b[0m{\n",
      "  \"context\": \"{\\\"Q\\\": \\\"未成年人可不可以擔任公司之股東？\\\", \\\"A\\\": \\\"答：未成年人可以成為公司之股東；但是未成年人不可以成為股份有限公司的發起人。（公司法§128）\\\"}\\n\\n{\\\"Q\\\": \\\"有限公司未成年股東在股東同意書上要怎麼簽名？\\\", \\\"A\\\": \\\"答：有限公司辦理變更登記，需要由未成年的限制行為能力股東同意時，除由其簽名外，依照民法的規定，還需要檢附法定代理人的同意書；若需由未成年的無行為能力股東同意時，則應由法定代理人代為意思表示（代為簽名）。（民法§76、§77、§1086、§1089）\\\"}\\n\\n{\\\"Q\\\": \\\"母公司經理人可不可以擔任百分之百持有之子公司經理人？\\\", \\\"A\\\": \\\"答：董事兼任經營同類業務之他公司董事或經理人，而該二公司為百分之百母子關係時，並不構成公司法第32條、第209條競業行為（本部101年10月11日經商字第10102435880號函釋）。\\\"}\\n\\n{\\\"Q\\\": \\\"有限公司董事如何產生？可否選任董事長？董事人數、資格有何限制？\\\", \\\"A\\\": \\\"答：有限公司要由三分之二以上股東同意來選任董事，而且至少要設置1人最多3人，由有行為能力的股東裡面選任，如果是限制行為能力的人或無行為能力的人，就不能擔任董事。而董事有數人時，如果要推定1人為董事長，就必須在章程裡面訂清楚，並由董事過半數同意互選，公司也可以選擇不設置董事長。（公司法§108）。\\\"}\",\n",
      "  \"question\": \"未成年人可不可以擔任公司之股東？\"\n",
      "}\n",
      "\u001b[36;1m\u001b[1;3m[chain/end]\u001b[0m \u001b[1m[1:chain:RunnableSequence > 6:prompt:ChatPromptTemplate] [1ms] Exiting Prompt run with output:\n",
      "\u001b[0m{\n",
      "  \"lc\": 1,\n",
      "  \"type\": \"constructor\",\n",
      "  \"id\": [\n",
      "    \"langchain\",\n",
      "    \"prompts\",\n",
      "    \"chat\",\n",
      "    \"ChatPromptValue\"\n",
      "  ],\n",
      "  \"kwargs\": {\n",
      "    \"messages\": [\n",
      "      {\n",
      "        \"lc\": 1,\n",
      "        \"type\": \"constructor\",\n",
      "        \"id\": [\n",
      "          \"langchain\",\n",
      "          \"schema\",\n",
      "          \"messages\",\n",
      "          \"HumanMessage\"\n",
      "        ],\n",
      "        \"kwargs\": {\n",
      "          \"content\": \"<|system|>\\n根據以下 Contex 資料回答 User Question。\\n\\n規則：\\n1.從 Context 比對所有JSON的欄位「Q」找出與「User Question」在關鍵詞和上下文語意相似的 JSON。\\n2.如果找不到任何相似的JSON，回覆「查無相關資訊」。\\n3.必須直接引用相似JSON的「A」欄位中完整所有文字作為你的答案(必須保留原文中的換行符號（\\r\\n）與任何格式)，並且不做任何修改。\\n\\nContex:\\n{\\\"Q\\\": \\\"未成年人可不可以擔任公司之股東？\\\", \\\"A\\\": \\\"答：未成年人可以成為公司之股東；但是未成年人不可以成為股份有限公司的發起人。（公司法§128）\\\"}\\n\\n{\\\"Q\\\": \\\"有限公司未成年股東在股東同意書上要怎麼簽名？\\\", \\\"A\\\": \\\"答：有限公司辦理變更登記，需要由未成年的限制行為能力股東同意時，除由其簽名外，依照民法的規定，還需要檢附法定代理人的同意書；若需由未成年的無行為能力股東同意時，則應由法定代理人代為意思表示（代為簽名）。（民法§76、§77、§1086、§1089）\\\"}\\n\\n{\\\"Q\\\": \\\"母公司經理人可不可以擔任百分之百持有之子公司經理人？\\\", \\\"A\\\": \\\"答：董事兼任經營同類業務之他公司董事或經理人，而該二公司為百分之百母子關係時，並不構成公司法第32條、第209條競業行為（本部101年10月11日經商字第10102435880號函釋）。\\\"}\\n\\n{\\\"Q\\\": \\\"有限公司董事如何產生？可否選任董事長？董事人數、資格有何限制？\\\", \\\"A\\\": \\\"答：有限公司要由三分之二以上股東同意來選任董事，而且至少要設置1人最多3人，由有行為能力的股東裡面選任，如果是限制行為能力的人或無行為能力的人，就不能擔任董事。而董事有數人時，如果要推定1人為董事長，就必須在章程裡面訂清楚，並由董事過半數同意互選，公司也可以選擇不設置董事長。（公司法§108）。\\\"}\\n\\n<|user|>\\n未成年人可不可以擔任公司之股東？ \\n\",\n",
      "          \"additional_kwargs\": {}\n",
      "        }\n",
      "      }\n",
      "    ]\n",
      "  }\n",
      "}\n",
      "\u001b[32;1m\u001b[1;3m[llm/start]\u001b[0m \u001b[1m[1:chain:RunnableSequence > 7:llm:ChatGLM3] Entering LLM run with input:\n",
      "\u001b[0m{\n",
      "  \"prompts\": [\n",
      "    \"Human: <|system|>\\n根據以下 Contex 資料回答 User Question。\\n\\n規則：\\n1.從 Context 比對所有JSON的欄位「Q」找出與「User Question」在關鍵詞和上下文語意相似的 JSON。\\n2.如果找不到任何相似的JSON，回覆「查無相關資訊」。\\n3.必須直接引用相似JSON的「A」欄位中完整所有文字作為你的答案(必須保留原文中的換行符號（\\r\\n）與任何格式)，並且不做任何修改。\\n\\nContex:\\n{\\\"Q\\\": \\\"章程訂定員工酬勞方式為何？\\\", \\\"A\\\": \\\"答：公司應在章程中明定公司有獲利時應分配給員工的酬勞，分配方式可以採比率或定額。比率訂定方式，選擇以固定數（例如：百分之二）、一定區間（例如：百分之二至百分之十）或下限（例如：百分之二以上、不低於百分之二）三種方式之一，均屬可行。\\\\r\\\\n（公司法§235-1）\\\"}\\n\\n{\\\"Q\\\": \\\"無員工編制時，還要提列員工酬勞嗎？\\\", \\\"A\\\": \\\"答：如果公司無員工編制時，可不提列員工酬勞。（公司法§235-1）\\\"}\\n\\n{\\\"Q\\\": \\\"發起人選任董事及監察人之方式，除章程另有規定者外，準用第198條規定。章程如何訂定？有限制嗎？改選是否也有限制？發起人或未來改選董監事是否一定要選有股東身分，又或外聘董監事？\\\", \\\"A\\\": \\\"答：依新法第356條之3規定，發起人選任董監以及爾後股東會選任董監之方式，除章程另有規定者外，依第198條規定辦理，亦即閉鎖性股份有限公司不論是發起人或爾後股東會選任董監，皆不強制採累積投票制，得以章程另定董事、監察人之選舉方式。另董事、監察人不以具有股東身分為必要（第192條、216條參照）。\\\"}\\n\\n{\\\"Q\\\": \\\"股份有限公司設置常務董事之要件為何？公司設有常務董事者，其董事長及副董事長可否由董事會選任？\\\", \\\"A\\\": \\\"答：公司欲設置常務董事者，其董事人數至少須有9名，且章程應訂明常務董事及名額，其名額至少3名，最多不得超過董事人數三分之一。公司設有常務董事者，董事長及副董事長應由常務董事三分之二以上之出席，出席常務董事過半數之同意選任，尚不得由董事會逕為選任。（公司法§208、經濟部69年5月23日經商字第16541號函釋）\\\"}\\n\\n<|user|>\\n章程訂定員工酬勞方式為何？\"\n",
      "  ]\n",
      "}\n",
      "\u001b[32;1m\u001b[1;3m[llm/start]\u001b[0m \u001b[1m[1:chain:RunnableSequence > 7:llm:ChatGLM3] Entering LLM run with input:\n",
      "\u001b[0m{\n",
      "  \"prompts\": [\n",
      "    \"Human: <|system|>\\n根據以下 Contex 資料回答 User Question。\\n\\n規則：\\n1.從 Context 比對所有JSON的欄位「Q」找出與「User Question」在關鍵詞和上下文語意相似的 JSON。\\n2.如果找不到任何相似的JSON，回覆「查無相關資訊」。\\n3.必須直接引用相似JSON的「A」欄位中完整所有文字作為你的答案(必須保留原文中的換行符號（\\r\\n）與任何格式)，並且不做任何修改。\\n\\nContex:\\n{\\\"Q\\\": \\\"未成年人可不可以擔任公司之股東？\\\", \\\"A\\\": \\\"答：未成年人可以成為公司之股東；但是未成年人不可以成為股份有限公司的發起人。（公司法§128）\\\"}\\n\\n{\\\"Q\\\": \\\"有限公司未成年股東在股東同意書上要怎麼簽名？\\\", \\\"A\\\": \\\"答：有限公司辦理變更登記，需要由未成年的限制行為能力股東同意時，除由其簽名外，依照民法的規定，還需要檢附法定代理人的同意書；若需由未成年的無行為能力股東同意時，則應由法定代理人代為意思表示（代為簽名）。（民法§76、§77、§1086、§1089）\\\"}\\n\\n{\\\"Q\\\": \\\"母公司經理人可不可以擔任百分之百持有之子公司經理人？\\\", \\\"A\\\": \\\"答：董事兼任經營同類業務之他公司董事或經理人，而該二公司為百分之百母子關係時，並不構成公司法第32條、第209條競業行為（本部101年10月11日經商字第10102435880號函釋）。\\\"}\\n\\n{\\\"Q\\\": \\\"有限公司董事如何產生？可否選任董事長？董事人數、資格有何限制？\\\", \\\"A\\\": \\\"答：有限公司要由三分之二以上股東同意來選任董事，而且至少要設置1人最多3人，由有行為能力的股東裡面選任，如果是限制行為能力的人或無行為能力的人，就不能擔任董事。而董事有數人時，如果要推定1人為董事長，就必須在章程裡面訂清楚，並由董事過半數同意互選，公司也可以選擇不設置董事長。（公司法§108）。\\\"}\\n\\n<|user|>\\n未成年人可不可以擔任公司之股東？\"\n",
      "  ]\n",
      "}\n",
      "\u001b[36;1m\u001b[1;3m[llm/end]\u001b[0m \u001b[1m[1:chain:RunnableSequence > 7:llm:ChatGLM3] [4.96s] Exiting LLM run with output:\n",
      "\u001b[0m{\n",
      "  \"generations\": [\n",
      "    [\n",
      "      {\n",
      "        \"text\": \"根據所提供的Contex，我們可以找到與「章程訂定員工酬勞方式為何？」關鍵詞和上下文語意相似的JSON為：\\n\\n* {\\\"Q\\\": \\\"章程訂定員工酬勞方式為何？\\\", \\\"A\\\": \\\"答：公司應在章程中明定公司有獲利時應分配給員工的酬勞，分配方式可以採比率或定額。比率訂定方式，選擇以固定數（例如：百分之二）、一定區間（例如：百分之二至百分之十）或下限（例如：百分之二以上、不低於百分之二）三種方式之一，均屬可行。\\\\r\\\\n（公司法§235-1）\\\" }\\n\\n因此，我的回答是：公司應在章程中明定公司有獲利時應分配給員工的酬勞，分配方式可以採比率或定額。比率訂定方式，選擇以固定數（例如：百分之二）、一定區間（例如：百分之二至百分之十）或下限（例如：百分之二以上、不低於百分之二）三種方式之一，均屬可行。\",\n",
      "        \"generation_info\": null,\n",
      "        \"type\": \"Generation\"\n",
      "      }\n",
      "    ]\n",
      "  ],\n",
      "  \"llm_output\": null,\n",
      "  \"run\": null\n",
      "}\n",
      "\u001b[36;1m\u001b[1;3m[llm/end]\u001b[0m \u001b[1m[1:chain:RunnableSequence > 7:llm:ChatGLM3] [4.96s] Exiting LLM run with output:\n",
      "\u001b[0m{\n",
      "  \"generations\": [\n",
      "    [\n",
      "      {\n",
      "        \"text\": \"未成年人可以成為公司之股東，但是未成年人不可以成為股份有限公司的發起人。（公司法§128）\",\n",
      "        \"generation_info\": null,\n",
      "        \"type\": \"Generation\"\n",
      "      }\n",
      "    ]\n",
      "  ],\n",
      "  \"llm_output\": null,\n",
      "  \"run\": null\n",
      "}\n",
      "\u001b[32;1m\u001b[1;3m[chain/start]\u001b[0m \u001b[1m[1:chain:RunnableSequence > 8:parser:StrOutputParser] Entering Parser run with input:\n",
      "\u001b[0m{\n",
      "  \"input\": \"根據所提供的Contex，我們可以找到與「章程訂定員工酬勞方式為何？」關鍵詞和上下文語意相似的JSON為：\\n\\n* {\\\"Q\\\": \\\"章程訂定員工酬勞方式為何？\\\", \\\"A\\\": \\\"答：公司應在章程中明定公司有獲利時應分配給員工的酬勞，分配方式可以採比率或定額。比率訂定方式，選擇以固定數（例如：百分之二）、一定區間（例如：百分之二至百分之十）或下限（例如：百分之二以上、不低於百分之二）三種方式之一，均屬可行。\\\\r\\\\n（公司法§235-1）\\\" }\\n\\n因此，我的回答是：公司應在章程中明定公司有獲利時應分配給員工的酬勞，分配方式可以採比率或定額。比率訂定方式，選擇以固定數（例如：百分之二）、一定區間（例如：百分之二至百分之十）或下限（例如：百分之二以上、不低於百分之二）三種方式之一，均屬可行。\"\n",
      "}\n",
      "\u001b[36;1m\u001b[1;3m[chain/end]\u001b[0m \u001b[1m[1:chain:RunnableSequence > 8:parser:StrOutputParser] [1ms] Exiting Parser run with output:\n",
      "\u001b[0m{\n",
      "  \"output\": \"根據所提供的Contex，我們可以找到與「章程訂定員工酬勞方式為何？」關鍵詞和上下文語意相似的JSON為：\\n\\n* {\\\"Q\\\": \\\"章程訂定員工酬勞方式為何？\\\", \\\"A\\\": \\\"答：公司應在章程中明定公司有獲利時應分配給員工的酬勞，分配方式可以採比率或定額。比率訂定方式，選擇以固定數（例如：百分之二）、一定區間（例如：百分之二至百分之十）或下限（例如：百分之二以上、不低於百分之二）三種方式之一，均屬可行。\\\\r\\\\n（公司法§235-1）\\\" }\\n\\n因此，我的回答是：公司應在章程中明定公司有獲利時應分配給員工的酬勞，分配方式可以採比率或定額。比率訂定方式，選擇以固定數（例如：百分之二）、一定區間（例如：百分之二至百分之十）或下限（例如：百分之二以上、不低於百分之二）三種方式之一，均屬可行。\"\n",
      "}\n",
      "\u001b[32;1m\u001b[1;3m[chain/start]\u001b[0m \u001b[1m[1:chain:RunnableSequence > 8:parser:StrOutputParser] Entering Parser run with input:\n",
      "\u001b[0m{\n",
      "  \"input\": \"未成年人可以成為公司之股東，但是未成年人不可以成為股份有限公司的發起人。（公司法§128）\"\n",
      "}\n",
      "\u001b[36;1m\u001b[1;3m[chain/end]\u001b[0m \u001b[1m[1:chain:RunnableSequence > 8:parser:StrOutputParser] [1ms] Exiting Parser run with output:\n",
      "\u001b[0m{\n",
      "  \"output\": \"未成年人可以成為公司之股東，但是未成年人不可以成為股份有限公司的發起人。（公司法§128）\"\n",
      "}\n",
      "\u001b[36;1m\u001b[1;3m[chain/end]\u001b[0m \u001b[1m[1:chain:RunnableSequence] [5.40s] Exiting Chain run with output:\n",
      "\u001b[0m{\n",
      "  \"output\": \"根據所提供的Contex，我們可以找到與「章程訂定員工酬勞方式為何？」關鍵詞和上下文語意相似的JSON為：\\n\\n* {\\\"Q\\\": \\\"章程訂定員工酬勞方式為何？\\\", \\\"A\\\": \\\"答：公司應在章程中明定公司有獲利時應分配給員工的酬勞，分配方式可以採比率或定額。比率訂定方式，選擇以固定數（例如：百分之二）、一定區間（例如：百分之二至百分之十）或下限（例如：百分之二以上、不低於百分之二）三種方式之一，均屬可行。\\\\r\\\\n（公司法§235-1）\\\" }\\n\\n因此，我的回答是：公司應在章程中明定公司有獲利時應分配給員工的酬勞，分配方式可以採比率或定額。比率訂定方式，選擇以固定數（例如：百分之二）、一定區間（例如：百分之二至百分之十）或下限（例如：百分之二以上、不低於百分之二）三種方式之一，均屬可行。\"\n",
      "}\n",
      "\u001b[36;1m\u001b[1;3m[chain/end]\u001b[0m \u001b[1m[1:chain:RunnableSequence] [5.39s] Exiting Chain run with output:\n",
      "\u001b[0m{\n",
      "  \"output\": \"未成年人可以成為公司之股東，但是未成年人不可以成為股份有限公司的發起人。（公司法§128）\"\n",
      "}\n"
     ]
    },
    {
     "data": {
      "text/plain": [
       "['根據所提供的Contex，我們可以找到與「章程訂定員工酬勞方式為何？」關鍵詞和上下文語意相似的JSON為：\\n\\n* {\"Q\": \"章程訂定員工酬勞方式為何？\", \"A\": \"答：公司應在章程中明定公司有獲利時應分配給員工的酬勞，分配方式可以採比率或定額。比率訂定方式，選擇以固定數（例如：百分之二）、一定區間（例如：百分之二至百分之十）或下限（例如：百分之二以上、不低於百分之二）三種方式之一，均屬可行。\\\\r\\\\n（公司法§235-1）\" }\\n\\n因此，我的回答是：公司應在章程中明定公司有獲利時應分配給員工的酬勞，分配方式可以採比率或定額。比率訂定方式，選擇以固定數（例如：百分之二）、一定區間（例如：百分之二至百分之十）或下限（例如：百分之二以上、不低於百分之二）三種方式之一，均屬可行。',\n",
       " '未成年人可以成為公司之股東，但是未成年人不可以成為股份有限公司的發起人。（公司法§128）']"
      ]
     },
     "execution_count": 15,
     "metadata": {},
     "output_type": "execute_result"
    }
   ],
   "source": [
    "chain.batch([\"章程訂定員工酬勞方式為何？\", \"未成年人可不可以擔任公司之股東？\"])"
   ]
  },
  {
   "cell_type": "markdown",
   "id": "dc9f714f-2d0a-49cd-89f9-a04c06f7cd9a",
   "metadata": {},
   "source": [
    "# 驗證"
   ]
  },
  {
   "cell_type": "markdown",
   "id": "299aa5d5-2932-4748-9e2d-6eb73c27fc89",
   "metadata": {},
   "source": [
    "## 驗證 372 個問題"
   ]
  },
  {
   "cell_type": "code",
   "execution_count": null,
   "id": "2fa73a6b-9967-4012-b19c-36ba6076361e",
   "metadata": {},
   "outputs": [],
   "source": []
  },
  {
   "cell_type": "code",
   "execution_count": null,
   "id": "0c550308-babe-4079-b3aa-f9f5d5c12192",
   "metadata": {},
   "outputs": [],
   "source": []
  }
 ],
 "metadata": {
  "kernelspec": {
   "display_name": "Python 3 (ipykernel)",
   "language": "python",
   "name": "python3"
  },
  "language_info": {
   "codemirror_mode": {
    "name": "ipython",
    "version": 3
   },
   "file_extension": ".py",
   "mimetype": "text/x-python",
   "name": "python",
   "nbconvert_exporter": "python",
   "pygments_lexer": "ipython3",
   "version": "3.8.0"
  }
 },
 "nbformat": 4,
 "nbformat_minor": 5
}
