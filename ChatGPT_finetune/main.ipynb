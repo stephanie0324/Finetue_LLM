{
 "cells": [
  {
   "cell_type": "markdown",
   "metadata": {},
   "source": [
    "# Open API Callout"
   ]
  },
  {
   "cell_type": "code",
   "execution_count": 1,
   "metadata": {},
   "outputs": [],
   "source": [
    "# Config\n",
    "from config import API_KEY"
   ]
  },
  {
   "cell_type": "code",
   "execution_count": 2,
   "metadata": {},
   "outputs": [],
   "source": [
    "from openai import OpenAI\n",
    "\n",
    "client = OpenAI(\n",
    "    # defaults to os.environ.get(\"OPENAI_API_KEY\")\n",
    "    api_key=API_KEY,\n",
    ")\n"
   ]
  },
  {
   "cell_type": "code",
   "execution_count": 3,
   "metadata": {},
   "outputs": [
    {
     "name": "stdout",
     "output_type": "stream",
     "text": [
      "ChatCompletionMessage(content=\"In the realm of code, where logic unfolds,\\nA concept arises, both clever and bold.\\nBeauty and power, intertwined quite fine,\\nRecursion, a dance, in loops so divine.\\n\\nImagine a function, unwavering and strong,\\nCalling itself, singing the same song.\\nA mystical trance, where steps are retraced,\\nA journey to depths, where wonders are embraced.\\n\\nWith each repetition, brings a magic spell,\\nA problem is sliced, as tales tend to tell.\\nFor the function knows, oh, so cleverly well,\\nTo conquer the maze, it must go back and dwell.\\n\\nBehold, like a mirror, it reflects its might,\\nRevisiting paths, like shadows at night.\\nEach iteration, a layer of dreams,\\nUnraveling secrets, life's puzzle redeemed.\\n\\nBut heed this warning, dear wandering soul,\\nRecursive power can so easily grow.\\nInfinite cycles, an eternal abyss,\\nLeaving the program lost, without bliss.\\n\\nYet when used with caution, this power so dear,\\nRecursion can conquer, without any fear.\\nA labyrinth solved, with elegance true,\\nSimple steps build to vistas anew.\\n\\nSo let us embrace this dance, with grace,\\nIn the realm of code, where programs take space.\\nRecursion, the waltz that loops without end,\\nUnlocking the marvels that codes can transcend.\", role='assistant', function_call=None, tool_calls=None)\n"
     ]
    }
   ],
   "source": [
    "completion = client.chat.completions.create(\n",
    "  model=\"gpt-3.5-turbo\",\n",
    "  messages=[\n",
    "    {\"role\": \"system\", \"content\": \"You are a poetic assistant, skilled in explaining complex programming concepts with creative flair.\"},\n",
    "    {\"role\": \"user\", \"content\": \"Compose a poem that explains the concept of recursion in programming.\"}\n",
    "  ]\n",
    ")\n",
    "\n",
    "print(completion.choices[0].message)"
   ]
  },
  {
   "cell_type": "code",
   "execution_count": 6,
   "metadata": {},
   "outputs": [
    {
     "name": "stderr",
     "output_type": "stream",
     "text": [
      "/home/B20711/anaconda3/envs/finetune-gpt/lib/python3.7/site-packages/tqdm/auto.py:21: TqdmWarning: IProgress not found. Please update jupyter and ipywidgets. See https://ipywidgets.readthedocs.io/en/stable/user_install.html\n",
      "  from .autonotebook import tqdm as notebook_tqdm\n",
      "Downloading readme: 100%|██████████| 4.99k/4.99k [00:00<00:00, 4.03MB/s]\n"
     ]
    },
    {
     "name": "stdout",
     "output_type": "stream",
     "text": [
      "Downloading and preparing dataset json/ZenMoore--RoleBench to /home/B20711/.cache/huggingface/datasets/ZenMoore___json/ZenMoore--RoleBench-a7e25fea52913a7b/0.0.0/8bb11242116d547c741b2e8a1f18598ffdd40a1d4f2a2872c7a28b697434bc96...\n"
     ]
    },
    {
     "name": "stderr",
     "output_type": "stream",
     "text": [
      "Downloading data: 100%|██████████| 67.9M/67.9M [00:34<00:00, 1.98MB/s]\n",
      "Downloading data: 100%|██████████| 10.3M/10.3M [00:04<00:00, 2.29MB/s]\n",
      "Downloading data: 100%|██████████| 85.8M/85.8M [00:41<00:00, 2.07MB/s]\n"
     ]
    }
   ],
   "source": [
    "from datasets import load_dataset\n",
    "\n",
    "dataset = load_dataset(\"ZenMoore/RoleBench\")\n"
   ]
  },
  {
   "cell_type": "code",
   "execution_count": null,
   "metadata": {},
   "outputs": [],
   "source": []
  }
 ],
 "metadata": {
  "kernelspec": {
   "display_name": "steph_env",
   "language": "python",
   "name": "python3"
  },
  "language_info": {
   "codemirror_mode": {
    "name": "ipython",
    "version": 3
   },
   "file_extension": ".py",
   "mimetype": "text/x-python",
   "name": "python",
   "nbconvert_exporter": "python",
   "pygments_lexer": "ipython3",
   "version": "3.7.16"
  }
 },
 "nbformat": 4,
 "nbformat_minor": 2
}
