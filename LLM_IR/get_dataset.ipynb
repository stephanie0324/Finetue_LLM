{
 "cells": [
  {
   "cell_type": "markdown",
   "metadata": {},
   "source": [
    "# Import"
   ]
  },
  {
   "cell_type": "code",
   "execution_count": 50,
   "metadata": {},
   "outputs": [],
   "source": [
    "import requests\n",
    "from bs4 import BeautifulSoup\n",
    "import re\n",
    "import pandas as pd\n",
    "from datetime import datetime\n",
    "import math\n",
    "import os \n",
    "import time"
   ]
  },
  {
   "cell_type": "code",
   "execution_count": 14,
   "metadata": {},
   "outputs": [],
   "source": [
    "# settings\n",
    "# Set the precision for displaying floating-point numbers\n",
    "pd.set_option('display.precision', 0)\n"
   ]
  },
  {
   "cell_type": "markdown",
   "metadata": {},
   "source": [
    "# Functions"
   ]
  },
  {
   "cell_type": "code",
   "execution_count": 20,
   "metadata": {},
   "outputs": [],
   "source": [
    "# urls\n",
    "urls = {\n",
    "    '戶政常見問答集':'https://www.ris.gov.tw/app/portal/158'\n",
    "}"
   ]
  },
  {
   "cell_type": "code",
   "execution_count": 55,
   "metadata": {},
   "outputs": [
    {
     "name": "stdout",
     "output_type": "stream",
     "text": [
      "Start retreiving from ... https://www.ris.gov.tw/app/portal/158\n",
      "Got 12 urls\n",
      "Time : 0:00:00.024510\n"
     ]
    }
   ],
   "source": [
    "# 所有標籤頁\n",
    "\n",
    "url = urls['戶政常見問答集']\n",
    "response = requests.get(url)\n",
    "start = datetime.now()\n",
    "soup = BeautifulSoup(response.text, \"html.parser\")\n",
    "\n",
    "tab_url_list =[]\n",
    "# tab content\n",
    "categories = soup.findAll('div',{'class' :'accordion-body accordion-second2-body collapse in'})\n",
    "category = categories[0].findAll('ul', {'class' : 'nav nav-list'})\n",
    "\n",
    "print(f'Start retreiving from ... {url}')\n",
    "for _ in category[0].find_all('a', href=True):\n",
    "    if '#' not in _['href']:\n",
    "        tab_url_list.append(_['href'])\n",
    "\n",
    "print(f'Got {len(tab_url_list)} urls')\n",
    "end = datetime.now()\n",
    "print(f'Time : {end-start}')\n",
    "\n"
   ]
  },
  {
   "cell_type": "code",
   "execution_count": 124,
   "metadata": {},
   "outputs": [
    {
     "name": "stdout",
     "output_type": "stream",
     "text": [
      "https://www.ris.gov.tw/app/portal/158\n",
      "https://www.ris.gov.tw/app/portal/150\n",
      "https://www.ris.gov.tw/app/portal/149\n",
      "https://www.ris.gov.tw/app/portal/741\n",
      "https://www.ris.gov.tw/app/portal/144\n",
      "https://www.ris.gov.tw/app/portal/145\n",
      "https://www.ris.gov.tw/app/portal/151\n",
      "https://www.ris.gov.tw/app/portal/153\n",
      "https://www.ris.gov.tw/app/portal/154\n",
      "https://www.ris.gov.tw/app/portal/155\n",
      "https://www.ris.gov.tw/app/portal/156\n",
      "https://www.ris.gov.tw/app/portal/659\n",
      "Time : 0:00:30.962317\n"
     ]
    }
   ],
   "source": [
    "# get qa list\n",
    "import os\n",
    "\n",
    "df = []\n",
    "idx = 0\n",
    "start = datetime.now()\n",
    "for url in tab_url_list:\n",
    "    print(url)\n",
    "    r = requests.get(url) \n",
    "    soup = BeautifulSoup(r.text, \"html.parser\")\n",
    "\n",
    "    #https://www.ris.gov.tw/documents/html/8/7/1/158_Q01.html\n",
    "    file_path = soup.find_all('iframe')[0]['src']\n",
    "\n",
    "    # tab content\n",
    "    r = requests.get('https://www.ris.gov.tw/'+soup.find_all('iframe')[0]['src']) \n",
    "    soup = BeautifulSoup(r.text, \"html.parser\")\n",
    "    for _ in soup.find_all('a',href='javascript:void(0);'):\n",
    "        qa={}\n",
    "        qa['category'] = soup.find_all('h1')[0].text\n",
    "        # Split the path and filename\n",
    "        directory, filename = os.path.split(file_path)\n",
    "        new_filename = _['onclick'].split('window.location.href=')[1].strip(';\\'')\n",
    "\n",
    "        # Create the new file path\n",
    "        new_file_path = os.path.join(directory, new_filename)\n",
    "\n",
    "        # request to the qa page\n",
    "        r = requests.get('https://www.ris.gov.tw/'+new_file_path) \n",
    "        soup = BeautifulSoup(r.text, \"html.parser\")\n",
    "        if len(soup.find_all('legend')[0].text)>0:\n",
    "            qa['question'] = soup.find_all('legend')[0].text\n",
    "            qa['answer']=''\n",
    "            for _ in soup.find_all('li'):\n",
    "                qa['answer']+=_.text.strip().replace('\\n','').replace('\\t','').replace('\\r','')\n",
    "        \n",
    "        if len(qa):\n",
    "            df.append(qa)\n",
    "end = datetime.now()\n",
    "print(f'Time : {end-start}')"
   ]
  },
  {
   "cell_type": "code",
   "execution_count": 125,
   "metadata": {},
   "outputs": [
    {
     "data": {
      "text/html": [
       "<div>\n",
       "<style scoped>\n",
       "    .dataframe tbody tr th:only-of-type {\n",
       "        vertical-align: middle;\n",
       "    }\n",
       "\n",
       "    .dataframe tbody tr th {\n",
       "        vertical-align: top;\n",
       "    }\n",
       "\n",
       "    .dataframe thead th {\n",
       "        text-align: right;\n",
       "    }\n",
       "</style>\n",
       "<table border=\"1\" class=\"dataframe\">\n",
       "  <thead>\n",
       "    <tr style=\"text-align: right;\">\n",
       "      <th></th>\n",
       "      <th>category</th>\n",
       "      <th>question</th>\n",
       "      <th>answer</th>\n",
       "    </tr>\n",
       "  </thead>\n",
       "  <tbody>\n",
       "    <tr>\n",
       "      <th>0</th>\n",
       "      <td>常見問答集</td>\n",
       "      <td>Q01.子女從姓及改姓有那些規定？又應如何辦理登記？</td>\n",
       "      <td>一、配合民法96年5月23日修正公布，戶政事務所辦理新生兒辦理出生登記時從姓之處理原則：父母...</td>\n",
       "    </tr>\n",
       "    <tr>\n",
       "      <th>1</th>\n",
       "      <td>常見問答集</td>\n",
       "      <td>Q02.改名有那些規定？又應如何辦理登記？</td>\n",
       "      <td>一、姓名符合下列情形之一者，當事人可向全國任一戶政事務所申請改名：同時在一公民營事業機構、機...</td>\n",
       "    </tr>\n",
       "    <tr>\n",
       "      <th>2</th>\n",
       "      <td>常見問答集</td>\n",
       "      <td>Q03.如何辦理認領登記？</td>\n",
       "      <td>認領登記，以認領人為申請人，認領人不為申請時，以被認領人為申請人，並準備下列文件至任一戶政事...</td>\n",
       "    </tr>\n",
       "    <tr>\n",
       "      <th>3</th>\n",
       "      <td>常見問答集</td>\n",
       "      <td>Q04.承租人已搬走但戶籍未遷出，可否將其戶籍遷出？</td>\n",
       "      <td>一、按行政法院56年判字第60號判例：「遷徙係事實行為，遷徙登記自應依事實認定之。」次按戶籍...</td>\n",
       "    </tr>\n",
       "    <tr>\n",
       "      <th>4</th>\n",
       "      <td>常見問答集</td>\n",
       "      <td>Q05.如何辦理初設戶籍登記？</td>\n",
       "      <td>一、申請人:（一）當事人為未成年人：由法定代理人（父母雙方）、戶長。（二）當事人為成年人：本...</td>\n",
       "    </tr>\n",
       "    <tr>\n",
       "      <th>...</th>\n",
       "      <td>...</td>\n",
       "      <td>...</td>\n",
       "      <td>...</td>\n",
       "    </tr>\n",
       "    <tr>\n",
       "      <th>75</th>\n",
       "      <td>指定送達地址申請作業</td>\n",
       "      <td>Q01. 辦理指定送達地址目的為何？</td>\n",
       "      <td>為落實簡政便民，提升服務品質，戶政機關行政處分或告知單等文件之送達，應優先寄送民眾指定送達地...</td>\n",
       "    </tr>\n",
       "    <tr>\n",
       "      <th>76</th>\n",
       "      <td>指定送達地址申請作業</td>\n",
       "      <td>Q02. 我可以隨時上網申辦指定送達地址嗎？</td>\n",
       "      <td>可以，本系統全年無休24小時全天開放，提供民眾快速便捷且安全無虞的申請管道，亦可以到各戶政事...</td>\n",
       "    </tr>\n",
       "    <tr>\n",
       "      <th>77</th>\n",
       "      <td>指定送達地址申請作業</td>\n",
       "      <td>Q03. 我該如何申辦指定送達地址呢？</td>\n",
       "      <td>請利用具自然人憑證ＩＣ卡相容讀卡機之個人電腦上網至「內政部戶政司全球資訊網」網站（https...</td>\n",
       "    </tr>\n",
       "    <tr>\n",
       "      <th>78</th>\n",
       "      <td>指定送達地址申請作業</td>\n",
       "      <td>Q04. 申辦指定送達地址需要付規費嗎？</td>\n",
       "      <td>目前查詢及申辦指定送達地址均不需要支付規費。</td>\n",
       "    </tr>\n",
       "    <tr>\n",
       "      <th>79</th>\n",
       "      <td>指定送達地址申請作業</td>\n",
       "      <td>Q05. 網路申辦失敗時向何處連絡洽詢？</td>\n",
       "      <td>申辦失敗時，請重行檢視申請系統作業程序與各項設定是否無誤，並參考Ｑ＆Ａ問題與說明，若有任何疑...</td>\n",
       "    </tr>\n",
       "  </tbody>\n",
       "</table>\n",
       "<p>80 rows × 3 columns</p>\n",
       "</div>"
      ],
      "text/plain": [
       "      category                    question  \\\n",
       "0        常見問答集  Q01.子女從姓及改姓有那些規定？又應如何辦理登記？   \n",
       "1        常見問答集       Q02.改名有那些規定？又應如何辦理登記？   \n",
       "2        常見問答集               Q03.如何辦理認領登記？   \n",
       "3        常見問答集  Q04.承租人已搬走但戶籍未遷出，可否將其戶籍遷出？   \n",
       "4        常見問答集             Q05.如何辦理初設戶籍登記？   \n",
       "..         ...                         ...   \n",
       "75  指定送達地址申請作業          Q01. 辦理指定送達地址目的為何？   \n",
       "76  指定送達地址申請作業      Q02. 我可以隨時上網申辦指定送達地址嗎？   \n",
       "77  指定送達地址申請作業         Q03. 我該如何申辦指定送達地址呢？   \n",
       "78  指定送達地址申請作業        Q04. 申辦指定送達地址需要付規費嗎？   \n",
       "79  指定送達地址申請作業        Q05. 網路申辦失敗時向何處連絡洽詢？   \n",
       "\n",
       "                                               answer  \n",
       "0   一、配合民法96年5月23日修正公布，戶政事務所辦理新生兒辦理出生登記時從姓之處理原則：父母...  \n",
       "1   一、姓名符合下列情形之一者，當事人可向全國任一戶政事務所申請改名：同時在一公民營事業機構、機...  \n",
       "2   認領登記，以認領人為申請人，認領人不為申請時，以被認領人為申請人，並準備下列文件至任一戶政事...  \n",
       "3   一、按行政法院56年判字第60號判例：「遷徙係事實行為，遷徙登記自應依事實認定之。」次按戶籍...  \n",
       "4   一、申請人:（一）當事人為未成年人：由法定代理人（父母雙方）、戶長。（二）當事人為成年人：本...  \n",
       "..                                                ...  \n",
       "75  為落實簡政便民，提升服務品質，戶政機關行政處分或告知單等文件之送達，應優先寄送民眾指定送達地...  \n",
       "76  可以，本系統全年無休24小時全天開放，提供民眾快速便捷且安全無虞的申請管道，亦可以到各戶政事...  \n",
       "77  請利用具自然人憑證ＩＣ卡相容讀卡機之個人電腦上網至「內政部戶政司全球資訊網」網站（https...  \n",
       "78                             目前查詢及申辦指定送達地址均不需要支付規費。  \n",
       "79  申辦失敗時，請重行檢視申請系統作業程序與各項設定是否無誤，並參考Ｑ＆Ａ問題與說明，若有任何疑...  \n",
       "\n",
       "[80 rows x 3 columns]"
      ]
     },
     "execution_count": 125,
     "metadata": {},
     "output_type": "execute_result"
    }
   ],
   "source": [
    "pd.DataFrame(df)"
   ]
  },
  {
   "cell_type": "code",
   "execution_count": 128,
   "metadata": {},
   "outputs": [],
   "source": [
    "# save \n",
    "pd.DataFrame(df).to_csv('./data/qa.csv', index=False)"
   ]
  }
 ],
 "metadata": {
  "kernelspec": {
   "display_name": "chatglm_etuning",
   "language": "python",
   "name": "python3"
  },
  "language_info": {
   "codemirror_mode": {
    "name": "ipython",
    "version": 3
   },
   "file_extension": ".py",
   "mimetype": "text/x-python",
   "name": "python",
   "nbconvert_exporter": "python",
   "pygments_lexer": "ipython3",
   "version": "3.10.4"
  }
 },
 "nbformat": 4,
 "nbformat_minor": 2
}
