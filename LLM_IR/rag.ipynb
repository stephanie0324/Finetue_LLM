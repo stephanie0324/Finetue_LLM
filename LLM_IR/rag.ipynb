{
 "cells": [
  {
   "cell_type": "markdown",
   "metadata": {},
   "source": [
    "# Import"
   ]
  },
  {
   "cell_type": "code",
   "execution_count": 13,
   "metadata": {},
   "outputs": [],
   "source": [
    "import pandas as pd\n",
    "import json\n",
    "\n",
    "from operator import itemgetter\n",
    "\n",
    "from langchain.embeddings import HuggingFaceEmbeddings\n",
    "from langchain.prompts import ChatPromptTemplate\n",
    "from langchain.schema.output_parser import StrOutputParser\n",
    "from langchain.schema.runnable import RunnableLambda, RunnablePassthrough\n",
    "from langchain.vectorstores import FAISS\n",
    "from langchain.schema.retriever import BaseRetriever, Document\n",
    "\n",
    "from langchain import HuggingFaceTextGenInference"
   ]
  },
  {
   "cell_type": "markdown",
   "metadata": {},
   "source": [
    "# FAISS"
   ]
  },
  {
   "cell_type": "code",
   "execution_count": 6,
   "metadata": {},
   "outputs": [
    {
     "data": {
      "text/plain": [
       "(80, 3)"
      ]
     },
     "execution_count": 6,
     "metadata": {},
     "output_type": "execute_result"
    }
   ],
   "source": [
    "# load docs\n",
    "\n",
    "df = pd.read_csv('./data/qa.csv')\n",
    "df.shape"
   ]
  },
  {
   "cell_type": "code",
   "execution_count": 7,
   "metadata": {},
   "outputs": [
    {
     "data": {
      "text/html": [
       "<div>\n",
       "<style scoped>\n",
       "    .dataframe tbody tr th:only-of-type {\n",
       "        vertical-align: middle;\n",
       "    }\n",
       "\n",
       "    .dataframe tbody tr th {\n",
       "        vertical-align: top;\n",
       "    }\n",
       "\n",
       "    .dataframe thead th {\n",
       "        text-align: right;\n",
       "    }\n",
       "</style>\n",
       "<table border=\"1\" class=\"dataframe\">\n",
       "  <thead>\n",
       "    <tr style=\"text-align: right;\">\n",
       "      <th></th>\n",
       "      <th>category</th>\n",
       "      <th>question</th>\n",
       "      <th>answer</th>\n",
       "    </tr>\n",
       "  </thead>\n",
       "  <tbody>\n",
       "    <tr>\n",
       "      <th>0</th>\n",
       "      <td>常見問答集</td>\n",
       "      <td>Q01.子女從姓及改姓有那些規定？又應如何辦理登記？</td>\n",
       "      <td>一、配合民法96年5月23日修正公布，戶政事務所辦理新生兒辦理出生登記時從姓之處理原則：父母...</td>\n",
       "    </tr>\n",
       "    <tr>\n",
       "      <th>1</th>\n",
       "      <td>常見問答集</td>\n",
       "      <td>Q02.改名有那些規定？又應如何辦理登記？</td>\n",
       "      <td>一、姓名符合下列情形之一者，當事人可向全國任一戶政事務所申請改名：同時在一公民營事業機構、機...</td>\n",
       "    </tr>\n",
       "    <tr>\n",
       "      <th>2</th>\n",
       "      <td>常見問答集</td>\n",
       "      <td>Q03.如何辦理認領登記？</td>\n",
       "      <td>認領登記，以認領人為申請人，認領人不為申請時，以被認領人為申請人，並準備下列文件至任一戶政事...</td>\n",
       "    </tr>\n",
       "    <tr>\n",
       "      <th>3</th>\n",
       "      <td>常見問答集</td>\n",
       "      <td>Q04.承租人已搬走但戶籍未遷出，可否將其戶籍遷出？</td>\n",
       "      <td>一、按行政法院56年判字第60號判例：「遷徙係事實行為，遷徙登記自應依事實認定之。」次按戶籍...</td>\n",
       "    </tr>\n",
       "    <tr>\n",
       "      <th>4</th>\n",
       "      <td>常見問答集</td>\n",
       "      <td>Q05.如何辦理初設戶籍登記？</td>\n",
       "      <td>一、申請人:（一）當事人為未成年人：由法定代理人（父母雙方）、戶長。（二）當事人為成年人：本...</td>\n",
       "    </tr>\n",
       "  </tbody>\n",
       "</table>\n",
       "</div>"
      ],
      "text/plain": [
       "  category                    question  \\\n",
       "0    常見問答集  Q01.子女從姓及改姓有那些規定？又應如何辦理登記？   \n",
       "1    常見問答集       Q02.改名有那些規定？又應如何辦理登記？   \n",
       "2    常見問答集               Q03.如何辦理認領登記？   \n",
       "3    常見問答集  Q04.承租人已搬走但戶籍未遷出，可否將其戶籍遷出？   \n",
       "4    常見問答集             Q05.如何辦理初設戶籍登記？   \n",
       "\n",
       "                                              answer  \n",
       "0  一、配合民法96年5月23日修正公布，戶政事務所辦理新生兒辦理出生登記時從姓之處理原則：父母...  \n",
       "1  一、姓名符合下列情形之一者，當事人可向全國任一戶政事務所申請改名：同時在一公民營事業機構、機...  \n",
       "2  認領登記，以認領人為申請人，認領人不為申請時，以被認領人為申請人，並準備下列文件至任一戶政事...  \n",
       "3  一、按行政法院56年判字第60號判例：「遷徙係事實行為，遷徙登記自應依事實認定之。」次按戶籍...  \n",
       "4  一、申請人:（一）當事人為未成年人：由法定代理人（父母雙方）、戶長。（二）當事人為成年人：本...  "
      ]
     },
     "execution_count": 7,
     "metadata": {},
     "output_type": "execute_result"
    }
   ],
   "source": [
    "df.head()"
   ]
  },
  {
   "cell_type": "code",
   "execution_count": 10,
   "metadata": {},
   "outputs": [],
   "source": [
    "# 將他轉為Document\n",
    "\n",
    "docs = []\n",
    "\n",
    "for idx, row in df.iterrows():\n",
    "    doc_json = {\n",
    "        \"Q\": row.question,\n",
    "        \"A\": row.answer\n",
    "    }\n",
    "    doc_content = json.dumps(doc_json, ensure_ascii=False)\n",
    "    \n",
    "    # 索引儲存的 Document 內容\n",
    "    current_document = Document(\n",
    "        page_content=doc_content,  # 主要內文\n",
    "        metadata={\n",
    "            'source': '中華民國內政部戶政司全球資訊網',\n",
    "        }\n",
    "    )\n",
    "    docs.append(current_document)"
   ]
  },
  {
   "cell_type": "code",
   "execution_count": 11,
   "metadata": {},
   "outputs": [
    {
     "data": {
      "text/plain": [
       "[Document(page_content='{\"Q\": \"Q01.子女從姓及改姓有那些規定？又應如何辦理登記？\", \"A\": \"一、配合民法96年5月23日修正公布，戶政事務所辦理新生兒辦理出生登記時從姓之處理原則：父母已約定子女從父姓或母姓者，提憑父母約定書辦理。父母約定不成者，由申請人於戶政事務所抽籤決定該子女依父姓或母姓登 記。逾期未辦理出生登記，經催告仍未申請者，由戶政事務所抽籤決定該子女依 父姓或母姓登記。非婚生子女，依母姓登記。無依兒童且父母身分不明者，依監護人之姓氏登記。經戶政事務所抽籤決定姓氏者或無依兒童依監護人之姓氏登記者，嗣後變更 姓氏，不計入民法第1059條第4項次數之計算。新生兒出生前或出生登記前，父母一方死亡，由生存之一方單方決定子女姓 氏，又父母均死亡，由監護人決定該子女從父姓或從母姓，心神喪失或精神耗弱者，比照辦理。申請人抽籤後不辦理出生登記，於逕為出生登記前，得再抽籤決定。另父母 一方行方不明、雙方不往來或拒絕約定子女姓氏，得依約定不成之情形，由申請人抽籤決定新生兒依父姓或母姓登記。父母已約定子女從父姓或母姓者，提憑父母約定書辦理。父母約定不成者，由申請人於戶政事務所抽籤決定該子女依父姓或母姓登 記。逾期未辦理出生登記，經催告仍未申請者，由戶政事務所抽籤決定該子女依 父姓或母姓登記。非婚生子女，依母姓登記。無依兒童且父母身分不明者，依監護人之姓氏登記。經戶政事務所抽籤決定姓氏者或無依兒童依監護人之姓氏登記者，嗣後變更 姓氏，不計入民法第1059條第4項次數之計算。新生兒出生前或出生登記前，父母一方死亡，由生存之一方單方決定子女姓 氏，又父母均死亡，由監護人決定該子女從父姓或從母姓，心神喪失或精神耗弱者，比照辦理。申請人抽籤後不辦理出生登記，於逕為出生登記前，得再抽籤決定。另父母 一方行方不明、雙方不往來或拒絕約定子女姓氏，得依約定不成之情形，由申請人抽籤決定新生兒依父姓或母姓登記。二、子女經出生登記後，申請改姓相關規定：未成年前，得由父母以書面約定，變更為父姓或母姓；成年後，得自行申請 變更為父姓或母姓。父母離婚、一方死亡、生死不明滿3年或顯有未盡保護或教養義務之情事 者，為子女之利益，得請求法院宣告變更子女之姓氏為父姓或母姓。父母變更姓氏後，已從其姓之直系血親卑親屬應隨同改姓。未成年前，得由父母以書面約定，變更為父姓或母姓；成年後，得自行申請 變更為父姓或母姓。父母離婚、一方死亡、生死不明滿3年或顯有未盡保護或教養義務之情事 者，為子女之利益，得請求法院宣告變更子女之姓氏為父姓或母姓。父母變更姓氏後，已從其姓之直系血親卑親屬應隨同改姓。三、被認領、收養者申請改姓相關規定：非婚生子女從母姓。經生父認領者，得依民法第1059條第2項至第4項 規定，未成年前，得由父母以書面約定，變更為父姓或母姓；成年後，得自行申請變更為父姓或母姓。非婚生子女經生父認領已從母姓辦理出生登記者，嗣後生父母結婚，得由父 母書面約定或由成年之當事人自行決定是否變更姓氏。收養關係成立於96年5月23日民法親屬編修正公布前，其養子女之從 姓，自應依當時民法第1078條規定，養子女從收養者之姓；有配偶者收養子女時，養子女之姓適用第1059條之規定。有關夫妻之一方收養他方之子女時，養子女之姓氏變更，應視被收養者年齡 而定，如被收養者年齡為未滿7歲或滿7歲以上之未成年人被收養時，依民法第1076 條之2規定，應由其法定代理人代為並代受意思表示或同意。準此，未成年養子女之姓氏變更，應由收養者約定；如成年子女被收養時，養子女之姓氏變更，應由收養者與被收養者約定，從養父姓、養母姓或維持原來之姓，不必得其生父母之同意。養子女被收養時，得與養父母書面約定維持原姓、從養父姓、或從養母姓。 養子女未成年前得由養父母以書面約定變更姓氏；於成年後得自行申請變更姓氏，養子女被收養後姓氏之變更，不受被收養前變更姓氏次數之限制。非婚生子女從母姓。經生父認領者，得依民法第1059條第2項至第4項 規定，未成年前，得由父母以書面約定，變更為父姓或母姓；成年後，得自行申請變更為父姓或母姓。非婚生子女經生父認領已從母姓辦理出生登記者，嗣後生父母結婚，得由父 母書面約定或由成年之當事人自行決定是否變更姓氏。收養關係成立於96年5月23日民法親屬編修正公布前，其養子女之從 姓，自應依當時民法第1078條規定，養子女從收養者之姓；有配偶者收養子女時，養子女之姓適用第1059條之規定。有關夫妻之一方收養他方之子女時，養子女之姓氏變更，應視被收養者年齡 而定，如被收養者年齡為未滿7歲或滿7歲以上之未成年人被收養時，依民法第1076 條之2規定，應由其法定代理人代為並代受意思表示或同意。準此，未成年養子女之姓氏變更，應由收養者約定；如成年子女被收養時，養子女之姓氏變更，應由收養者與被收養者約定，從養父姓、養母姓或維持原來之姓，不必得其生父母之同意。養子女被收養時，得與養父母書面約定維持原姓、從養父姓、或從養母姓。 養子女未成年前得由養父母以書面約定變更姓氏；於成年後得自行申請變更姓氏，養子女被收養後姓氏之變更，不受被收養前變更姓氏次數之限制。\"}', metadata={'source': '中華民國內政部戶政司全球資訊網'}),\n",
       " Document(page_content='{\"Q\": \"Q02.改名有那些規定？又應如何辦理登記？\", \"A\": \"一、姓名符合下列情形之一者，當事人可向全國任一戶政事務所申請改名：同時在一公民營事業機構、機關(購)、團體或學校服務或肄業，姓名完全相同。與三親等以內直系尊親屬名字完全相同。同時在一直轄市、縣(市)設立戶籍6個月以上，姓名完全相同。與經通緝有案之人犯姓名完全相同。被認領、撤銷認領、被收養、撤銷收養或終止收養。字義粗俗不雅、音譯過長或有特殊原因。以此款事由申請改名，以3次為限。但未成年人第2次改名，應於成年後始得為之。同時在一公民營事業機構、機關(購)、團體或學校服務或肄業，姓名完全相同。與三親等以內直系尊親屬名字完全相同。同時在一直轄市、縣(市)設立戶籍6個月以上，姓名完全相同。與經通緝有案之人犯姓名完全相同。被認領、撤銷認領、被收養、撤銷收養或終止收養。字義粗俗不雅、音譯過長或有特殊原因。以此款事由申請改名，以3次為限。但未成年人第2次改名，應於成年後始得為之。二、改名須由本人或法定代理人親自申請（未成年人由法定代理人單方申請，須另附他方之同意書），備妥當事人國民身分證（未領證者以戶口名簿代替）、戶口名簿、申請人國民身分證、印章、改名證明文件、規費新臺幣 50 元及相片 1 張或數位相片（須換領國民身分證時），得免繳交相片或數位相片之情形，請參照國民身分證及戶口名簿製發相片影像檔建置管理辦法第14條規定。※ 國民身分證相片規格可至 內政部戶政司全球資訊網-國民身分證相片規格 查詢。※ 繳交數位相片者請至 內政部戶政司全球資訊網→網路申辦服務→國民身分證→國民身分證影像上傳 上傳數位相片。\"}', metadata={'source': '中華民國內政部戶政司全球資訊網'}),\n",
       " Document(page_content='{\"Q\": \"Q03.如何辦理認領登記？\", \"A\": \"認領登記，以認領人為申請人，認領人不為申請時，以被認領人為申請人，並準備下列文件至任一戶政事務所辦理：認領書、法院判決書及判決確定證明書或相關文件。認領人戶口名簿、國民身分證、印章（或簽名）。申請認領同時改從父姓者，應提子女從姓約定書。規費新臺幣50元及相片1張或數位相片（須換領國民身分證時），相片規格請參照 內政部戶政司全球資訊網-國民身分證相片規格，換領得免繳交相片或數位相片之情形，請參照國民身分證及戶口名簿製發相片影像檔建置管理辦法第14條規定※ 繳交數位相片者請至 內政部戶政司全球資訊網→網路申辦服務→國民身分證→國民身分證影像上傳 上傳數位相片。認領書、法院判決書及判決確定證明書或相關文件。認領人戶口名簿、國民身分證、印章（或簽名）。申請認領同時改從父姓者，應提子女從姓約定書。規費新臺幣50元及相片1張或數位相片（須換領國民身分證時），相片規格請參照 內政部戶政司全球資訊網-國民身分證相片規格，換領得免繳交相片或數位相片之情形，請參照國民身分證及戶口名簿製發相片影像檔建置管理辦法第14條規定※ 繳交數位相片者請至 內政部戶政司全球資訊網→網路申辦服務→國民身分證→國民身分證影像上傳 上傳數位相片。\"}', metadata={'source': '中華民國內政部戶政司全球資訊網'})]"
      ]
     },
     "execution_count": 11,
     "metadata": {},
     "output_type": "execute_result"
    }
   ],
   "source": [
    "docs[:3]"
   ]
  },
  {
   "cell_type": "code",
   "execution_count": 17,
   "metadata": {},
   "outputs": [
    {
     "name": "stderr",
     "output_type": "stream",
     "text": [
      "No sentence-transformers model found with name /home/B20711/.cache/torch/sentence_transformers/THUDM_chatglm3-6b. Creating a new one with MEAN pooling.\n",
      "Loading checkpoint shards: 100%|██████████| 7/7 [00:07<00:00,  1.09s/it]\n"
     ]
    },
    {
     "ename": "ValueError",
     "evalue": "Tokenizer class ChatGLMTokenizer does not exist or is not currently imported.",
     "output_type": "error",
     "traceback": [
      "\u001b[0;31m---------------------------------------------------------------------------\u001b[0m",
      "\u001b[0;31mValueError\u001b[0m                                Traceback (most recent call last)",
      "Cell \u001b[0;32mIn[17], line 10\u001b[0m\n\u001b[1;32m      7\u001b[0m model_kwargs \u001b[38;5;241m=\u001b[39m {\u001b[38;5;124m'\u001b[39m\u001b[38;5;124mdevice\u001b[39m\u001b[38;5;124m'\u001b[39m:\u001b[38;5;124m'\u001b[39m\u001b[38;5;124mcuda:0\u001b[39m\u001b[38;5;124m'\u001b[39m}\n\u001b[1;32m      9\u001b[0m \u001b[38;5;66;03m# Initialize an instance of HuggingFaceEmbeddings with the specified parameters\u001b[39;00m\n\u001b[0;32m---> 10\u001b[0m embeddings \u001b[38;5;241m=\u001b[39m \u001b[43mHuggingFaceEmbeddings\u001b[49m\u001b[43m(\u001b[49m\n\u001b[1;32m     11\u001b[0m \u001b[43m    \u001b[49m\u001b[43mmodel_name\u001b[49m\u001b[38;5;241;43m=\u001b[39;49m\u001b[43mmodelPath\u001b[49m\u001b[43m,\u001b[49m\u001b[43m     \u001b[49m\u001b[38;5;66;43;03m# Provide the pre-trained model's path\u001b[39;49;00m\n\u001b[1;32m     12\u001b[0m \u001b[43m    \u001b[49m\u001b[43mmodel_kwargs\u001b[49m\u001b[38;5;241;43m=\u001b[39;49m\u001b[43mmodel_kwargs\u001b[49m\u001b[43m,\u001b[49m\u001b[43m \u001b[49m\u001b[38;5;66;43;03m# Pass the model configuration options\u001b[39;49;00m\n\u001b[1;32m     13\u001b[0m \u001b[43m)\u001b[49m\n\u001b[1;32m     15\u001b[0m vectorstore \u001b[38;5;241m=\u001b[39m FAISS\u001b[38;5;241m.\u001b[39mfrom_documents(\n\u001b[1;32m     16\u001b[0m     docs, embedding\u001b[38;5;241m=\u001b[39membeddings\n\u001b[1;32m     17\u001b[0m )\n\u001b[1;32m     18\u001b[0m retriever \u001b[38;5;241m=\u001b[39m vectorstore\u001b[38;5;241m.\u001b[39mas_retriever(search_kwargs\u001b[38;5;241m=\u001b[39m{\u001b[38;5;124m\"\u001b[39m\u001b[38;5;124mk\u001b[39m\u001b[38;5;124m\"\u001b[39m: \u001b[38;5;241m4\u001b[39m})\n",
      "File \u001b[0;32m~/anaconda2/envs/chatglm_etuning/lib/python3.10/site-packages/langchain/embeddings/huggingface.py:66\u001b[0m, in \u001b[0;36mHuggingFaceEmbeddings.__init__\u001b[0;34m(self, **kwargs)\u001b[0m\n\u001b[1;32m     60\u001b[0m \u001b[38;5;28;01mexcept\u001b[39;00m \u001b[38;5;167;01mImportError\u001b[39;00m \u001b[38;5;28;01mas\u001b[39;00m exc:\n\u001b[1;32m     61\u001b[0m     \u001b[38;5;28;01mraise\u001b[39;00m \u001b[38;5;167;01mImportError\u001b[39;00m(\n\u001b[1;32m     62\u001b[0m         \u001b[38;5;124m\"\u001b[39m\u001b[38;5;124mCould not import sentence_transformers python package. \u001b[39m\u001b[38;5;124m\"\u001b[39m\n\u001b[1;32m     63\u001b[0m         \u001b[38;5;124m\"\u001b[39m\u001b[38;5;124mPlease install it with `pip install sentence-transformers`.\u001b[39m\u001b[38;5;124m\"\u001b[39m\n\u001b[1;32m     64\u001b[0m     ) \u001b[38;5;28;01mfrom\u001b[39;00m \u001b[38;5;21;01mexc\u001b[39;00m\n\u001b[0;32m---> 66\u001b[0m \u001b[38;5;28mself\u001b[39m\u001b[38;5;241m.\u001b[39mclient \u001b[38;5;241m=\u001b[39m \u001b[43msentence_transformers\u001b[49m\u001b[38;5;241;43m.\u001b[39;49m\u001b[43mSentenceTransformer\u001b[49m\u001b[43m(\u001b[49m\n\u001b[1;32m     67\u001b[0m \u001b[43m    \u001b[49m\u001b[38;5;28;43mself\u001b[39;49m\u001b[38;5;241;43m.\u001b[39;49m\u001b[43mmodel_name\u001b[49m\u001b[43m,\u001b[49m\u001b[43m \u001b[49m\u001b[43mcache_folder\u001b[49m\u001b[38;5;241;43m=\u001b[39;49m\u001b[38;5;28;43mself\u001b[39;49m\u001b[38;5;241;43m.\u001b[39;49m\u001b[43mcache_folder\u001b[49m\u001b[43m,\u001b[49m\u001b[43m \u001b[49m\u001b[38;5;241;43m*\u001b[39;49m\u001b[38;5;241;43m*\u001b[39;49m\u001b[38;5;28;43mself\u001b[39;49m\u001b[38;5;241;43m.\u001b[39;49m\u001b[43mmodel_kwargs\u001b[49m\n\u001b[1;32m     68\u001b[0m \u001b[43m\u001b[49m\u001b[43m)\u001b[49m\n",
      "File \u001b[0;32m~/anaconda2/envs/chatglm_etuning/lib/python3.10/site-packages/sentence_transformers/SentenceTransformer.py:97\u001b[0m, in \u001b[0;36mSentenceTransformer.__init__\u001b[0;34m(self, model_name_or_path, modules, device, cache_folder, use_auth_token)\u001b[0m\n\u001b[1;32m     95\u001b[0m         modules \u001b[38;5;241m=\u001b[39m \u001b[38;5;28mself\u001b[39m\u001b[38;5;241m.\u001b[39m_load_sbert_model(model_path)\n\u001b[1;32m     96\u001b[0m     \u001b[38;5;28;01melse\u001b[39;00m:   \u001b[38;5;66;03m#Load with AutoModel\u001b[39;00m\n\u001b[0;32m---> 97\u001b[0m         modules \u001b[38;5;241m=\u001b[39m \u001b[38;5;28;43mself\u001b[39;49m\u001b[38;5;241;43m.\u001b[39;49m\u001b[43m_load_auto_model\u001b[49m\u001b[43m(\u001b[49m\u001b[43mmodel_path\u001b[49m\u001b[43m)\u001b[49m\n\u001b[1;32m     99\u001b[0m \u001b[38;5;28;01mif\u001b[39;00m modules \u001b[38;5;129;01mis\u001b[39;00m \u001b[38;5;129;01mnot\u001b[39;00m \u001b[38;5;28;01mNone\u001b[39;00m \u001b[38;5;129;01mand\u001b[39;00m \u001b[38;5;129;01mnot\u001b[39;00m \u001b[38;5;28misinstance\u001b[39m(modules, OrderedDict):\n\u001b[1;32m    100\u001b[0m     modules \u001b[38;5;241m=\u001b[39m OrderedDict([(\u001b[38;5;28mstr\u001b[39m(idx), module) \u001b[38;5;28;01mfor\u001b[39;00m idx, module \u001b[38;5;129;01min\u001b[39;00m \u001b[38;5;28menumerate\u001b[39m(modules)])\n",
      "File \u001b[0;32m~/anaconda2/envs/chatglm_etuning/lib/python3.10/site-packages/sentence_transformers/SentenceTransformer.py:806\u001b[0m, in \u001b[0;36mSentenceTransformer._load_auto_model\u001b[0;34m(self, model_name_or_path)\u001b[0m\n\u001b[1;32m    802\u001b[0m \u001b[38;5;250m\u001b[39m\u001b[38;5;124;03m\"\"\"\u001b[39;00m\n\u001b[1;32m    803\u001b[0m \u001b[38;5;124;03mCreates a simple Transformer + Mean Pooling model and returns the modules\u001b[39;00m\n\u001b[1;32m    804\u001b[0m \u001b[38;5;124;03m\"\"\"\u001b[39;00m\n\u001b[1;32m    805\u001b[0m logger\u001b[38;5;241m.\u001b[39mwarning(\u001b[38;5;124m\"\u001b[39m\u001b[38;5;124mNo sentence-transformers model found with name \u001b[39m\u001b[38;5;132;01m{}\u001b[39;00m\u001b[38;5;124m. Creating a new one with MEAN pooling.\u001b[39m\u001b[38;5;124m\"\u001b[39m\u001b[38;5;241m.\u001b[39mformat(model_name_or_path))\n\u001b[0;32m--> 806\u001b[0m transformer_model \u001b[38;5;241m=\u001b[39m \u001b[43mTransformer\u001b[49m\u001b[43m(\u001b[49m\u001b[43mmodel_name_or_path\u001b[49m\u001b[43m)\u001b[49m\n\u001b[1;32m    807\u001b[0m pooling_model \u001b[38;5;241m=\u001b[39m Pooling(transformer_model\u001b[38;5;241m.\u001b[39mget_word_embedding_dimension(), \u001b[38;5;124m'\u001b[39m\u001b[38;5;124mmean\u001b[39m\u001b[38;5;124m'\u001b[39m)\n\u001b[1;32m    808\u001b[0m \u001b[38;5;28;01mreturn\u001b[39;00m [transformer_model, pooling_model]\n",
      "File \u001b[0;32m~/anaconda2/envs/chatglm_etuning/lib/python3.10/site-packages/sentence_transformers/models/Transformer.py:31\u001b[0m, in \u001b[0;36mTransformer.__init__\u001b[0;34m(self, model_name_or_path, max_seq_length, model_args, cache_dir, tokenizer_args, do_lower_case, tokenizer_name_or_path)\u001b[0m\n\u001b[1;32m     28\u001b[0m config \u001b[38;5;241m=\u001b[39m AutoConfig\u001b[38;5;241m.\u001b[39mfrom_pretrained(model_name_or_path, \u001b[38;5;241m*\u001b[39m\u001b[38;5;241m*\u001b[39mmodel_args, cache_dir\u001b[38;5;241m=\u001b[39mcache_dir)\n\u001b[1;32m     29\u001b[0m \u001b[38;5;28mself\u001b[39m\u001b[38;5;241m.\u001b[39m_load_model(model_name_or_path, config, cache_dir)\n\u001b[0;32m---> 31\u001b[0m \u001b[38;5;28mself\u001b[39m\u001b[38;5;241m.\u001b[39mtokenizer \u001b[38;5;241m=\u001b[39m \u001b[43mAutoTokenizer\u001b[49m\u001b[38;5;241;43m.\u001b[39;49m\u001b[43mfrom_pretrained\u001b[49m\u001b[43m(\u001b[49m\u001b[43mtokenizer_name_or_path\u001b[49m\u001b[43m \u001b[49m\u001b[38;5;28;43;01mif\u001b[39;49;00m\u001b[43m \u001b[49m\u001b[43mtokenizer_name_or_path\u001b[49m\u001b[43m \u001b[49m\u001b[38;5;129;43;01mis\u001b[39;49;00m\u001b[43m \u001b[49m\u001b[38;5;129;43;01mnot\u001b[39;49;00m\u001b[43m \u001b[49m\u001b[38;5;28;43;01mNone\u001b[39;49;00m\u001b[43m \u001b[49m\u001b[38;5;28;43;01melse\u001b[39;49;00m\u001b[43m \u001b[49m\u001b[43mmodel_name_or_path\u001b[49m\u001b[43m,\u001b[49m\u001b[43m \u001b[49m\u001b[43mcache_dir\u001b[49m\u001b[38;5;241;43m=\u001b[39;49m\u001b[43mcache_dir\u001b[49m\u001b[43m,\u001b[49m\u001b[43m \u001b[49m\u001b[38;5;241;43m*\u001b[39;49m\u001b[38;5;241;43m*\u001b[39;49m\u001b[43mtokenizer_args\u001b[49m\u001b[43m)\u001b[49m\n\u001b[1;32m     33\u001b[0m \u001b[38;5;66;03m#No max_seq_length set. Try to infer from model\u001b[39;00m\n\u001b[1;32m     34\u001b[0m \u001b[38;5;28;01mif\u001b[39;00m max_seq_length \u001b[38;5;129;01mis\u001b[39;00m \u001b[38;5;28;01mNone\u001b[39;00m:\n",
      "File \u001b[0;32m~/anaconda2/envs/chatglm_etuning/lib/python3.10/site-packages/transformers/models/auto/tokenization_auto.py:765\u001b[0m, in \u001b[0;36mAutoTokenizer.from_pretrained\u001b[0;34m(cls, pretrained_model_name_or_path, *inputs, **kwargs)\u001b[0m\n\u001b[1;32m    763\u001b[0m         tokenizer_class \u001b[38;5;241m=\u001b[39m tokenizer_class_from_name(tokenizer_class_candidate)\n\u001b[1;32m    764\u001b[0m     \u001b[38;5;28;01mif\u001b[39;00m tokenizer_class \u001b[38;5;129;01mis\u001b[39;00m \u001b[38;5;28;01mNone\u001b[39;00m:\n\u001b[0;32m--> 765\u001b[0m         \u001b[38;5;28;01mraise\u001b[39;00m \u001b[38;5;167;01mValueError\u001b[39;00m(\n\u001b[1;32m    766\u001b[0m             \u001b[38;5;124mf\u001b[39m\u001b[38;5;124m\"\u001b[39m\u001b[38;5;124mTokenizer class \u001b[39m\u001b[38;5;132;01m{\u001b[39;00mtokenizer_class_candidate\u001b[38;5;132;01m}\u001b[39;00m\u001b[38;5;124m does not exist or is not currently imported.\u001b[39m\u001b[38;5;124m\"\u001b[39m\n\u001b[1;32m    767\u001b[0m         )\n\u001b[1;32m    768\u001b[0m     \u001b[38;5;28;01mreturn\u001b[39;00m tokenizer_class\u001b[38;5;241m.\u001b[39mfrom_pretrained(pretrained_model_name_or_path, \u001b[38;5;241m*\u001b[39minputs, \u001b[38;5;241m*\u001b[39m\u001b[38;5;241m*\u001b[39mkwargs)\n\u001b[1;32m    770\u001b[0m \u001b[38;5;66;03m# Otherwise we have to be creative.\u001b[39;00m\n\u001b[1;32m    771\u001b[0m \u001b[38;5;66;03m# if model is an encoder decoder, the encoder tokenizer class is used by default\u001b[39;00m\n",
      "\u001b[0;31mValueError\u001b[0m: Tokenizer class ChatGLMTokenizer does not exist or is not currently imported."
     ]
    }
   ],
   "source": [
    "# Embeddins\n",
    "modelPath = \"THUDM/chatglm3-6b\"\n",
    "\n",
    "# Create a dictionary with model configuration options, specifying to use the CPU for computations\n",
    "model_kwargs = {'device':'cuda:0'}\n",
    "\n",
    "# Initialize an instance of HuggingFaceEmbeddings with the specified parameters\n",
    "embeddings = HuggingFaceEmbeddings(\n",
    "    model_name=modelPath,     # Provide the pre-trained model's path\n",
    "    model_kwargs=model_kwargs, # Pass the model configuration options\n",
    ")\n",
    "\n",
    "vectorstore = FAISS.from_documents(\n",
    "    docs, embedding=embeddings\n",
    ")\n",
    "retriever = vectorstore.as_retriever(search_kwargs={\"k\": 4})"
   ]
  },
  {
   "cell_type": "markdown",
   "metadata": {},
   "source": [
    "# 設定 Document Combine 的格式"
   ]
  },
  {
   "cell_type": "code",
   "execution_count": null,
   "metadata": {},
   "outputs": [],
   "source": [
    "from langchain.prompts.prompt import PromptTemplate\n",
    "from langchain.schema import format_document\n",
    "\n",
    "DEFAULT_DOCUMENT_PROMPT = PromptTemplate.from_template(template=\"{page_content}\")\n",
    "def _combine_documents(\n",
    "    docs, document_prompt=DEFAULT_DOCUMENT_PROMPT, document_separator=\"\\n\\n\"\n",
    "):\n",
    "    doc_strings = [format_document(doc, document_prompt) for doc in docs]\n",
    "    return document_separator.join(doc_strings)"
   ]
  },
  {
   "cell_type": "markdown",
   "metadata": {},
   "source": [
    "# 設定丟給LLM的prompt"
   ]
  },
  {
   "cell_type": "code",
   "execution_count": null,
   "metadata": {},
   "outputs": [],
   "source": [
    "template = \"\"\"<|system|>\n",
    "根據以下 Contex 資料回答 User Question。\n",
    "\n",
    "規則：\n",
    "1.從 Context 比對所有JSON的欄位「Q」找出與「User Question」在關鍵詞和上下文語意相似的 JSON。\n",
    "2.如果找不到任何相似的JSON，回覆「查無相關資訊」。\n",
    "3.必須直接引用相似JSON的「Q」欄位中完整所有文字作為你的答案(必須保留原文中的換行符號（\\r\\n）與任何格式)不用回傳 「A」，用繁體中文並且不做任何修改。\n",
    "\n",
    "Contex:\n",
    "{context}\n",
    "\n",
    "<|user|>\n",
    "{question} \n",
    "\"\"\"\n",
    "prompt = ChatPromptTemplate.from_template(template)"
   ]
  },
  {
   "cell_type": "code",
   "execution_count": null,
   "metadata": {},
   "outputs": [],
   "source": [
    "chain = (\n",
    "    {\"context\": retriever | _combine_documents, \"question\": RunnablePassthrough()}\n",
    "    | prompt\n",
    "    | model\n",
    "    | StrOutputParser()\n",
    ")"
   ]
  },
  {
   "cell_type": "code",
   "execution_count": null,
   "metadata": {},
   "outputs": [],
   "source": [
    "chain = (\n",
    "    {\"context\": retriever | _combine_documents, \"question\": RunnablePassthrough()}\n",
    "    | prompt\n",
    "    | model\n",
    "    | StrOutputParser()\n",
    ")"
   ]
  },
  {
   "cell_type": "code",
   "execution_count": null,
   "metadata": {},
   "outputs": [],
   "source": [
    "chain.invoke(\"Q01.子女從姓及改姓有那些規定？又應如何辦理登記？\")"
   ]
  }
 ],
 "metadata": {
  "kernelspec": {
   "display_name": "chatglm_etuning",
   "language": "python",
   "name": "python3"
  },
  "language_info": {
   "codemirror_mode": {
    "name": "ipython",
    "version": 3
   },
   "file_extension": ".py",
   "mimetype": "text/x-python",
   "name": "python",
   "nbconvert_exporter": "python",
   "pygments_lexer": "ipython3",
   "version": "3.10.4"
  }
 },
 "nbformat": 4,
 "nbformat_minor": 2
}
